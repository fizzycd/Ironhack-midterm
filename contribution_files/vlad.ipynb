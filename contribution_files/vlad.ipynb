{
 "cells": [
  {
   "cell_type": "markdown",
   "id": "e29e9301",
   "metadata": {},
   "source": [
    "# Used cars price prediction - Ironhack midterm project"
   ]
  },
  {
   "cell_type": "markdown",
   "id": "37dad8cd",
   "metadata": {},
   "source": [
    "## 1. EDA"
   ]
  },
  {
   "cell_type": "code",
   "execution_count": 1,
   "id": "38a4aa95",
   "metadata": {},
   "outputs": [],
   "source": [
    "import pandas as pd\n",
    "import numpy as np\n",
    "import statistics as stats\n",
    "import seaborn as sns\n",
    "import matplotlib.pyplot as plt\n",
    "import math\n",
    "from sklearn.preprocessing import PowerTransformer, StandardScaler, minmax_scale, OneHotEncoder\n",
    "%matplotlib inline\n",
    "\n",
    "from scipy.stats import iqr\n",
    "from sklearn.compose import ColumnTransformer\n",
    "from sklearn.linear_model import LinearRegression\n",
    "from sklearn.model_selection import train_test_split\n",
    "import statsmodels.api as sm\n",
    "\n",
    "from sklearn.metrics import r2_score\n",
    "from sklearn.metrics import mean_squared_error as mse\n",
    "from sklearn.metrics import mean_absolute_error as mae"
   ]
  },
  {
   "cell_type": "markdown",
   "id": "a8a39394",
   "metadata": {},
   "source": [
    "#### EDA results:\n",
    "\n",
    "* 'car data.csv' has anomalies in feature values; the file is ignored in the analysis due to its low statistical value with only 300 rows.\n",
    "* 'model' and 'engine' categorical columns have too many unique values; these columns will be ignored for the final data set due to the amount of dummified columns they would create after normalizing the data.\n",
    "* 'seats' column has nine unique values and will be used as the closest present alternative to vehicle type.\n",
    "* in order to concatenate the csv files into one dataframe columns 'location', 'color', 'mileage', 'max power', 'max torque', 'drivetrain', 'length', 'width', 'height', 'fuel tank capacity' will be ignored, since they are not present in each file.\n",
    "* concatenating three csv files will result in a dataframe with roughly over 14k observations.\n",
    "* no outliers require removal."
   ]
  },
  {
   "cell_type": "code",
   "execution_count": 2,
   "id": "5b8ff04d",
   "metadata": {},
   "outputs": [],
   "source": [
    "df1 = pd.read_csv('../data/CAR DETAILS FROM CAR DEKHO.csv')\n",
    "df2 = pd.read_csv('../data/Car details v3.csv')\n",
    "df3 = pd.read_csv('../data/car details v4.csv')"
   ]
  },
  {
   "cell_type": "code",
   "execution_count": 3,
   "id": "3bf2d2b1",
   "metadata": {},
   "outputs": [],
   "source": [
    "#df3.iloc[df3['Price'].idxmax()]  # <--- shows that the outliers should not be removed"
   ]
  },
  {
   "cell_type": "code",
   "execution_count": 4,
   "id": "454444a3",
   "metadata": {
    "scrolled": false
   },
   "outputs": [
    {
     "data": {
      "text/html": [
       "<div>\n",
       "<style scoped>\n",
       "    .dataframe tbody tr th:only-of-type {\n",
       "        vertical-align: middle;\n",
       "    }\n",
       "\n",
       "    .dataframe tbody tr th {\n",
       "        vertical-align: top;\n",
       "    }\n",
       "\n",
       "    .dataframe thead th {\n",
       "        text-align: right;\n",
       "    }\n",
       "</style>\n",
       "<table border=\"1\" class=\"dataframe\">\n",
       "  <thead>\n",
       "    <tr style=\"text-align: right;\">\n",
       "      <th></th>\n",
       "      <th>Price</th>\n",
       "      <th>Year</th>\n",
       "      <th>Kilometer</th>\n",
       "      <th>Length</th>\n",
       "      <th>Width</th>\n",
       "      <th>Height</th>\n",
       "      <th>Seating Capacity</th>\n",
       "      <th>Fuel Tank Capacity</th>\n",
       "    </tr>\n",
       "  </thead>\n",
       "  <tbody>\n",
       "    <tr>\n",
       "      <th>count</th>\n",
       "      <td>2059.0</td>\n",
       "      <td>2059.0</td>\n",
       "      <td>2059.0</td>\n",
       "      <td>1995.0</td>\n",
       "      <td>1995.0</td>\n",
       "      <td>1995.0</td>\n",
       "      <td>1995.0</td>\n",
       "      <td>1946.0</td>\n",
       "    </tr>\n",
       "    <tr>\n",
       "      <th>mean</th>\n",
       "      <td>1702992.0</td>\n",
       "      <td>2016.0</td>\n",
       "      <td>54225.0</td>\n",
       "      <td>4281.0</td>\n",
       "      <td>1768.0</td>\n",
       "      <td>1592.0</td>\n",
       "      <td>5.0</td>\n",
       "      <td>52.0</td>\n",
       "    </tr>\n",
       "    <tr>\n",
       "      <th>std</th>\n",
       "      <td>2419881.0</td>\n",
       "      <td>3.0</td>\n",
       "      <td>57362.0</td>\n",
       "      <td>442.0</td>\n",
       "      <td>135.0</td>\n",
       "      <td>136.0</td>\n",
       "      <td>1.0</td>\n",
       "      <td>15.0</td>\n",
       "    </tr>\n",
       "    <tr>\n",
       "      <th>min</th>\n",
       "      <td>49000.0</td>\n",
       "      <td>1988.0</td>\n",
       "      <td>0.0</td>\n",
       "      <td>3099.0</td>\n",
       "      <td>1475.0</td>\n",
       "      <td>1165.0</td>\n",
       "      <td>2.0</td>\n",
       "      <td>15.0</td>\n",
       "    </tr>\n",
       "    <tr>\n",
       "      <th>25%</th>\n",
       "      <td>484999.0</td>\n",
       "      <td>2014.0</td>\n",
       "      <td>29000.0</td>\n",
       "      <td>3985.0</td>\n",
       "      <td>1695.0</td>\n",
       "      <td>1485.0</td>\n",
       "      <td>5.0</td>\n",
       "      <td>41.0</td>\n",
       "    </tr>\n",
       "    <tr>\n",
       "      <th>50%</th>\n",
       "      <td>825000.0</td>\n",
       "      <td>2017.0</td>\n",
       "      <td>50000.0</td>\n",
       "      <td>4370.0</td>\n",
       "      <td>1770.0</td>\n",
       "      <td>1545.0</td>\n",
       "      <td>5.0</td>\n",
       "      <td>50.0</td>\n",
       "    </tr>\n",
       "    <tr>\n",
       "      <th>75%</th>\n",
       "      <td>1925000.0</td>\n",
       "      <td>2019.0</td>\n",
       "      <td>72000.0</td>\n",
       "      <td>4629.0</td>\n",
       "      <td>1832.0</td>\n",
       "      <td>1675.0</td>\n",
       "      <td>5.0</td>\n",
       "      <td>60.0</td>\n",
       "    </tr>\n",
       "    <tr>\n",
       "      <th>max</th>\n",
       "      <td>35000000.0</td>\n",
       "      <td>2022.0</td>\n",
       "      <td>2000000.0</td>\n",
       "      <td>5569.0</td>\n",
       "      <td>2220.0</td>\n",
       "      <td>1995.0</td>\n",
       "      <td>8.0</td>\n",
       "      <td>105.0</td>\n",
       "    </tr>\n",
       "  </tbody>\n",
       "</table>\n",
       "</div>"
      ],
      "text/plain": [
       "            Price    Year  Kilometer  Length   Width  Height  \\\n",
       "count      2059.0  2059.0     2059.0  1995.0  1995.0  1995.0   \n",
       "mean    1702992.0  2016.0    54225.0  4281.0  1768.0  1592.0   \n",
       "std     2419881.0     3.0    57362.0   442.0   135.0   136.0   \n",
       "min       49000.0  1988.0        0.0  3099.0  1475.0  1165.0   \n",
       "25%      484999.0  2014.0    29000.0  3985.0  1695.0  1485.0   \n",
       "50%      825000.0  2017.0    50000.0  4370.0  1770.0  1545.0   \n",
       "75%     1925000.0  2019.0    72000.0  4629.0  1832.0  1675.0   \n",
       "max    35000000.0  2022.0  2000000.0  5569.0  2220.0  1995.0   \n",
       "\n",
       "       Seating Capacity  Fuel Tank Capacity  \n",
       "count            1995.0              1946.0  \n",
       "mean                5.0                52.0  \n",
       "std                 1.0                15.0  \n",
       "min                 2.0                15.0  \n",
       "25%                 5.0                41.0  \n",
       "50%                 5.0                50.0  \n",
       "75%                 5.0                60.0  \n",
       "max                 8.0               105.0  "
      ]
     },
     "execution_count": 4,
     "metadata": {},
     "output_type": "execute_result"
    }
   ],
   "source": [
    "df3.describe().round()"
   ]
  },
  {
   "cell_type": "markdown",
   "id": "8120d8dd",
   "metadata": {},
   "source": [
    "## 2. Data cleaning"
   ]
  },
  {
   "cell_type": "markdown",
   "id": "65ad26ad",
   "metadata": {},
   "source": [
    "#### data cleaning results:\n",
    "* extracted the first word (Make) in the 'name' and 'owner' columns.\n",
    "* dropped extra columns.\n",
    "* formatted 'selling price' column.\n",
    "* concatenated three files into a new dataframe.\n",
    "* checked for null values (there aren't any).\n",
    "* checked for duplicates (2.2k duplicated found) and droppped them.\n",
    "* check data types (all correct)."
   ]
  },
  {
   "cell_type": "code",
   "execution_count": 5,
   "id": "3956a12a",
   "metadata": {},
   "outputs": [],
   "source": [
    "df1['name'] = df1['name'].apply(lambda x: x.split()[0])\n",
    "df2['name'] = df2['name'].apply(lambda x: x.split()[0])\n"
   ]
  },
  {
   "cell_type": "code",
   "execution_count": 6,
   "id": "19511281",
   "metadata": {},
   "outputs": [],
   "source": [
    "df1['owner'] = df1['owner'].apply(lambda x: x.split()[0])\n",
    "df2['owner'] = df2['owner'].apply(lambda x: x.split()[0])"
   ]
  },
  {
   "cell_type": "code",
   "execution_count": 7,
   "id": "806da4e2",
   "metadata": {},
   "outputs": [],
   "source": [
    "df3.rename(columns=\n",
    "           {\"Year\": \"year\",\n",
    "            \"Price\": \"selling_price\",\n",
    "            \"Kilometer\": \"km_driven\", \n",
    "            \"Fuel Type\": \"fuel\", \n",
    "            \"Seller Type\": \"seller_type\", \n",
    "            \"Transmission\": \"transmission\", \n",
    "            \"Make\": \"name\",\n",
    "            \"Owner\": \"owner\"},inplace=True)\n",
    "\n",
    "df1[\"selling_price\"] /= 100\n",
    "df1[\"selling_price\"] = df1[\"selling_price\"].astype(int)\n",
    "\n",
    "df2[\"selling_price\"] /= 100\n",
    "df2[\"selling_price\"] = df2[\"selling_price\"].astype(int)\n",
    "\n",
    "df3[\"selling_price\"] /= 100\n",
    "df3[\"selling_price\"] = df3[\"selling_price\"].astype(int)"
   ]
  },
  {
   "cell_type": "code",
   "execution_count": 8,
   "id": "d34810fc",
   "metadata": {},
   "outputs": [],
   "source": [
    "df2.drop(['mileage', 'engine', 'max_power', 'torque', 'seats'], axis=1, inplace=True)\n",
    "df3.drop(['Model', 'Location', 'Color', 'Engine', 'Max Power', 'Max Torque', \n",
    "          'Drivetrain', 'Length', 'Width', 'Height', 'Seating Capacity', 'Fuel Tank Capacity'], axis=1, inplace=True)\n"
   ]
  },
  {
   "cell_type": "code",
   "execution_count": 9,
   "id": "fcf6a399",
   "metadata": {},
   "outputs": [],
   "source": [
    "df = pd.concat([df1, df2, df3], ignore_index=True)"
   ]
  },
  {
   "cell_type": "code",
   "execution_count": 10,
   "id": "1dea0efd",
   "metadata": {},
   "outputs": [
    {
     "data": {
      "text/plain": [
       "False"
      ]
     },
     "execution_count": 10,
     "metadata": {},
     "output_type": "execute_result"
    }
   ],
   "source": [
    "#check for null values\n",
    "df.isnull().any().any()"
   ]
  },
  {
   "cell_type": "code",
   "execution_count": 11,
   "id": "a9ef89b9",
   "metadata": {},
   "outputs": [],
   "source": [
    "#check for duplicates\n",
    "dup = df[df.duplicated(keep=False)].sort_values(by=['selling_price'])"
   ]
  },
  {
   "cell_type": "code",
   "execution_count": 12,
   "id": "12426f42",
   "metadata": {
    "scrolled": false
   },
   "outputs": [],
   "source": [
    "#drop duplicates\n",
    "df.drop_duplicates(inplace=True, ignore_index=True)"
   ]
  },
  {
   "cell_type": "markdown",
   "id": "473dca1b",
   "metadata": {},
   "source": [
    "## Data transformation"
   ]
  },
  {
   "cell_type": "markdown",
   "id": "48a1356f",
   "metadata": {},
   "source": [
    "#### Results:\n",
    "* Made plots for km driven, year & selling price."
   ]
  },
  {
   "cell_type": "code",
   "execution_count": 13,
   "id": "1568be2d",
   "metadata": {},
   "outputs": [
    {
     "data": {
      "text/html": [
       "<div>\n",
       "<style scoped>\n",
       "    .dataframe tbody tr th:only-of-type {\n",
       "        vertical-align: middle;\n",
       "    }\n",
       "\n",
       "    .dataframe tbody tr th {\n",
       "        vertical-align: top;\n",
       "    }\n",
       "\n",
       "    .dataframe thead th {\n",
       "        text-align: right;\n",
       "    }\n",
       "</style>\n",
       "<table border=\"1\" class=\"dataframe\">\n",
       "  <thead>\n",
       "    <tr style=\"text-align: right;\">\n",
       "      <th></th>\n",
       "      <th>name</th>\n",
       "      <th>year</th>\n",
       "      <th>selling_price</th>\n",
       "      <th>km_driven</th>\n",
       "      <th>fuel</th>\n",
       "      <th>seller_type</th>\n",
       "      <th>transmission</th>\n",
       "      <th>owner</th>\n",
       "    </tr>\n",
       "  </thead>\n",
       "  <tbody>\n",
       "    <tr>\n",
       "      <th>0</th>\n",
       "      <td>Maruti</td>\n",
       "      <td>2007</td>\n",
       "      <td>600</td>\n",
       "      <td>70000</td>\n",
       "      <td>Petrol</td>\n",
       "      <td>Individual</td>\n",
       "      <td>Manual</td>\n",
       "      <td>First</td>\n",
       "    </tr>\n",
       "  </tbody>\n",
       "</table>\n",
       "</div>"
      ],
      "text/plain": [
       "     name  year  selling_price  km_driven    fuel seller_type transmission  \\\n",
       "0  Maruti  2007            600      70000  Petrol  Individual       Manual   \n",
       "\n",
       "   owner  \n",
       "0  First  "
      ]
     },
     "execution_count": 13,
     "metadata": {},
     "output_type": "execute_result"
    }
   ],
   "source": [
    "df.head(1)"
   ]
  },
  {
   "cell_type": "code",
   "execution_count": 14,
   "id": "9d00c527",
   "metadata": {},
   "outputs": [
    {
     "data": {
      "image/png": "[encoded data removed]",
      "text/plain": [
       "<Figure size 640x480 with 1 Axes>"
      ]
     },
     "metadata": {},
     "output_type": "display_data"
    }
   ],
   "source": [
    "plt.scatter(x=df['km_driven'], y=df['selling_price'],c='g')\n",
    "plt.show()"
   ]
  },
  {
   "cell_type": "code",
   "execution_count": 15,
   "id": "b2a93434",
   "metadata": {},
   "outputs": [
    {
     "data": {
      "image/png": "[encoded data removed]",
      "text/plain": [
       "<Figure size 640x480 with 1 Axes>"
      ]
     },
     "metadata": {},
     "output_type": "display_data"
    }
   ],
   "source": [
    "plt.scatter(x=df['year'], y=df['selling_price'],c='g')\n",
    "plt.show()"
   ]
  },
  {
   "cell_type": "code",
   "execution_count": 16,
   "id": "41704bf1",
   "metadata": {},
   "outputs": [],
   "source": [
    "#remove outliers func\n",
    "def remove_outliers(df):\n",
    "    for c in df.columns:\n",
    "            pct_75 = np.percentile(df[c], 75)\n",
    "            pct_25 = np.percentile(df[c], 25)\n",
    "            upper_bound = pct_75 + 1.5*iqr(df[c])\n",
    "            lower_bound = pct_25 - 1.5*iqr(df[c])\n",
    "            condition = (df[c] < upper_bound) & (df[c] > lower_bound)\n",
    "            df[c] = df[c][condition]\n",
    "    return df"
   ]
  },
  {
   "cell_type": "markdown",
   "id": "3184a038",
   "metadata": {},
   "source": [
    "#### X, y & train, test split"
   ]
  },
  {
   "cell_type": "code",
   "execution_count": 17,
   "id": "d36294f6",
   "metadata": {},
   "outputs": [],
   "source": [
    "X = df.drop('selling_price', axis=1)\n",
    "y = df[['selling_price']]"
   ]
  },
  {
   "cell_type": "code",
   "execution_count": 18,
   "id": "df8e4ceb",
   "metadata": {},
   "outputs": [],
   "source": [
    "numericalX = X.select_dtypes(include=[np.number])\n",
    "categoricalX = X.select_dtypes(include=[object])\n",
    "\n",
    "numericalX_columns = numericalX.columns"
   ]
  },
  {
   "cell_type": "code",
   "execution_count": 19,
   "id": "4fa83f61",
   "metadata": {},
   "outputs": [],
   "source": [
    "scaler = StandardScaler()\n",
    "scaler.fit(numericalX)\n",
    "numericalX = scaler.transform(numericalX)\n",
    "\n",
    "pt = PowerTransformer()\n",
    "pt.fit(numericalX)\n",
    "numericalX = pt.transform(numericalX)\n",
    "\n",
    "numericalX = pd.DataFrame(numericalX, columns=numericalX_columns)"
   ]
  },
  {
   "cell_type": "code",
   "execution_count": 20,
   "id": "0c16ecd2",
   "metadata": {},
   "outputs": [],
   "source": [
    "X = pd.concat([pd.get_dummies(X[categoricalX.columns],drop_first=True), numericalX], axis=1)"
   ]
  },
  {
   "cell_type": "code",
   "execution_count": 21,
   "id": "40f1956e",
   "metadata": {
    "scrolled": true
   },
   "outputs": [
    {
     "data": {
      "text/plain": [
       "False"
      ]
     },
     "execution_count": 21,
     "metadata": {},
     "output_type": "execute_result"
    }
   ],
   "source": [
    "X.isna().any().any()"
   ]
  },
  {
   "cell_type": "code",
   "execution_count": 22,
   "id": "8ae538d7",
   "metadata": {},
   "outputs": [],
   "source": [
    "tt_ratio = 0.3\n",
    "rand_seed = 40"
   ]
  },
  {
   "cell_type": "code",
   "execution_count": 23,
   "id": "ffb7cf62",
   "metadata": {},
   "outputs": [],
   "source": [
    "X_train, X_test, y_train, y_test = train_test_split(X, y, test_size=tt_ratio, random_state=rand_seed)\n",
    "X_train = pd.DataFrame(X_train)\n",
    "X_test = pd.DataFrame(X_test)"
   ]
  },
  {
   "cell_type": "code",
   "execution_count": 24,
   "id": "fe64fe3b",
   "metadata": {},
   "outputs": [
    {
     "name": "stdout",
     "output_type": "stream",
     "text": [
      "                            OLS Regression Results                            \n",
      "==============================================================================\n",
      "Dep. Variable:          selling_price   R-squared:                       0.745\n",
      "Model:                            OLS   Adj. R-squared:                  0.743\n",
      "Method:                 Least Squares   F-statistic:                     430.9\n",
      "Date:                Wed, 08 Feb 2023   Prob (F-statistic):               0.00\n",
      "Time:                        09:45:50   Log-Likelihood:                -86918.\n",
      "No. Observations:                8622   AIC:                         1.740e+05\n",
      "Df Residuals:                    8563   BIC:                         1.744e+05\n",
      "Df Model:                          58                                         \n",
      "Covariance Type:            nonrobust                                         \n",
      "==============================================================================\n",
      "                 coef    std err          t      P>|t|      [0.025      0.975]\n",
      "------------------------------------------------------------------------------\n",
      "const       6357.8365   7239.245      0.878      0.380   -7832.828    2.05e+04\n",
      "x1          2.972e-10   3.56e-11      8.350      0.000    2.27e-10    3.67e-10\n",
      "x2          1.284e+04   2655.469      4.837      0.000    7638.192     1.8e+04\n",
      "x3          2.154e+04   2655.069      8.113      0.000    1.63e+04    2.67e+04\n",
      "x4         -3119.7440   2622.513     -1.190      0.234   -8260.502    2021.014\n",
      "x5          1569.9725   3895.553      0.403      0.687   -6066.251    9206.196\n",
      "x6         -5870.6542   2715.098     -2.162      0.031   -1.12e+04    -548.407\n",
      "x7          3.368e+05   6359.797     52.951      0.000    3.24e+05    3.49e+05\n",
      "x8         -3099.6545   2714.258     -1.142      0.253   -8420.255    2220.946\n",
      "x9         -2372.6990   3894.121     -0.609      0.542      -1e+04    5260.718\n",
      "x10        -1970.1297   2614.835     -0.753      0.451   -7095.836    3155.576\n",
      "x11        -1753.5857   2612.142     -0.671      0.502   -6874.013    3366.842\n",
      "x12        -2424.6500   2603.603     -0.931      0.352   -7528.339    2679.039\n",
      "x13         4497.7957   3405.912      1.321      0.187   -2178.614    1.12e+04\n",
      "x14         2.022e+04   2926.567      6.907      0.000    1.45e+04     2.6e+04\n",
      "x15         4698.6727   2782.364      1.689      0.091    -755.431    1.02e+04\n",
      "x16           16.1174   2899.312      0.006      0.996   -5667.234    5699.469\n",
      "x17         2.287e+05   6358.939     35.962      0.000    2.16e+05    2.41e+05\n",
      "x18         2.099e+04   3679.233      5.704      0.000    1.38e+04    2.82e+04\n",
      "x19         5.034e+04   2946.565     17.083      0.000    4.46e+04    5.61e+04\n",
      "x20         2.831e+04   4255.027      6.653      0.000       2e+04    3.67e+04\n",
      "x21         5418.9679   3014.129      1.798      0.072    -489.452    1.13e+04\n",
      "x22         1.421e+04   3533.382      4.023      0.000    7287.267    2.11e+04\n",
      "x23        -1545.0321   2606.624     -0.593      0.553   -6654.643    3564.579\n",
      "x24        -2688.4576   2601.611     -1.033      0.301   -7788.241    2411.326\n",
      "x25        -3830.0791   2623.267     -1.460      0.144   -8972.315    1312.157\n",
      "x26        -1.152e-10   1.56e-11     -7.375      0.000   -1.46e-10   -8.46e-11\n",
      "x27         2.392e+04   2646.128      9.038      0.000    1.87e+04    2.91e+04\n",
      "x28         3080.6880   3057.751      1.008      0.314   -2913.240    9074.616\n",
      "x29        -2878.2117   2662.915     -1.081      0.280   -8098.167    2341.744\n",
      "x30        -1.343e-10   5.04e-12    -26.641      0.000   -1.44e-10   -1.24e-10\n",
      "x31          245.1399   4860.179      0.050      0.960   -9281.982    9772.261\n",
      "x32          968.3069   6356.466      0.152      0.879   -1.15e+04    1.34e+04\n",
      "x33         6.371e+04   3446.478     18.487      0.000     5.7e+04    7.05e+04\n",
      "x34        -4492.0870   2626.536     -1.710      0.087   -9640.731     656.557\n",
      "x35         1.921e+05   4863.694     39.497      0.000    1.83e+05    2.02e+05\n",
      "x36         -596.6456   2659.723     -0.224      0.823   -5810.344    4617.052\n",
      "x37         -915.4713   4240.201     -0.216      0.829   -9227.287    7396.345\n",
      "x38        -3398.0777   2606.854     -1.304      0.192   -8508.140    1711.985\n",
      "x39         2889.2324   2614.020      1.105      0.269   -2234.877    8013.341\n",
      "x40        -2541.4068   2629.098     -0.967      0.334   -7695.072    2612.258\n",
      "x41         1.924e+04   2915.174      6.601      0.000    1.35e+04     2.5e+04\n",
      "x42         1342.8358   5838.732      0.230      0.818   -1.01e+04    1.28e+04\n",
      "x43         2478.4214    641.167      3.865      0.000    1221.581    3735.262\n",
      "x44         1003.3427   2477.252      0.405      0.685   -3852.669    5859.354\n",
      "x45         7175.1460   5342.876      1.343      0.179   -3298.179    1.76e+04\n",
      "x46         1885.0808   1036.068      1.819      0.069    -145.863    3916.025\n",
      "x47          791.0183    637.341      1.241      0.215    -458.323    2040.359\n",
      "x48        -3.848e-10   2.38e-11    -16.137      0.000   -4.32e-10   -3.38e-10\n",
      "x49         9016.6259   5843.895      1.543      0.123   -2438.818    2.05e+04\n",
      "x50         3208.6250   3477.425      0.923      0.356   -3607.967       1e+04\n",
      "x51         2245.2249   3358.135      0.669      0.504   -4337.528    8827.978\n",
      "x52         2780.2412   3352.464      0.829      0.407   -3791.397    9351.880\n",
      "x53         2201.4853   3479.876      0.633      0.527   -4619.910    9022.881\n",
      "x54        -2960.5962    233.837    -12.661      0.000   -3418.973   -2502.220\n",
      "x55         -596.0084   5811.516     -0.103      0.918    -1.2e+04    1.08e+04\n",
      "x56          403.2934   5827.252      0.069      0.945    -1.1e+04    1.18e+04\n",
      "x57         -890.1593   5811.678     -0.153      0.878   -1.23e+04    1.05e+04\n",
      "x58         7498.1840   6040.481      1.241      0.215   -4342.614    1.93e+04\n",
      "x59         -178.7908   5815.315     -0.031      0.975   -1.16e+04    1.12e+04\n",
      "x60         2.185e+04   6060.899      3.604      0.000    9965.241    3.37e+04\n",
      "x61         3023.6543     89.792     33.674      0.000    2847.640    3199.669\n",
      "x62         -324.6538     87.850     -3.696      0.000    -496.862    -152.446\n",
      "==============================================================================\n",
      "Omnibus:                    11915.972   Durbin-Watson:                   2.001\n",
      "Prob(Omnibus):                  0.000   Jarque-Bera (JB):          8443690.700\n",
      "Skew:                           7.625   Prob(JB):                         0.00\n",
      "Kurtosis:                     155.549   Cond. No.                     1.60e+16\n",
      "==============================================================================\n",
      "\n",
      "Notes:\n",
      "[1] Standard Errors assume that the covariance matrix of the errors is correctly specified.\n",
      "[2] The smallest eigenvalue is 1.24e-28. This might indicate that there are\n",
      "strong multicollinearity problems or that the design matrix is singular.\n"
     ]
    }
   ],
   "source": [
    "X_train_const = sm.add_constant(X_train.to_numpy()) # adding a constant\n",
    "X_test_const = sm.add_constant(X_test) # adding a constant\n",
    "\n",
    "model = sm.OLS(y_train, X_train_const).fit()\n",
    "\n",
    "print_model = model.summary()\n",
    "print(print_model)"
   ]
  },
  {
   "cell_type": "code",
   "execution_count": 25,
   "id": "83f128e7",
   "metadata": {},
   "outputs": [
    {
     "data": {
      "text/plain": [
       "LinearRegression()"
      ]
     },
     "execution_count": 25,
     "metadata": {},
     "output_type": "execute_result"
    }
   ],
   "source": [
    "model = LinearRegression()    # model\n",
    "model.fit(X_train, y_train)   # model train"
   ]
  },
  {
   "cell_type": "code",
   "execution_count": 34,
   "id": "5f247fbf",
   "metadata": {},
   "outputs": [],
   "source": [
    "y_pred = pd.DataFrame(model.predict(X_test),columns = ['selling_price'] )      # model prediction"
   ]
  },
  {
   "cell_type": "code",
   "execution_count": 44,
   "id": "8ab903bf",
   "metadata": {},
   "outputs": [
    {
     "data": {
      "text/plain": [
       "[Text(0.5, 0, 'predicted'), Text(0, 0.5, 'test')]"
      ]
     },
     "execution_count": 44,
     "metadata": {},
     "output_type": "execute_result"
    },
    {
     "data": {
      "image/png": "[encoded data removed]",
      "text/plain": [
       "<Figure size 640x480 with 1 Axes>"
      ]
     },
     "metadata": {},
     "output_type": "display_data"
    }
   ],
   "source": [
    "yp = y_pred.to_numpy()\n",
    "yt = y_test.to_numpy()\n",
    "\n",
    "plot = sns.regplot(x=yp_,y=yt_,scatter_kws={\"color\": \"red\"}, line_kws={\"color\": \"black\"})\n",
    "plot.set(xlabel='predicted', ylabel='test')"
   ]
  }
 ],
 "metadata": {
  "kernelspec": {
   "display_name": "Python 3 (ipykernel)",
   "language": "python",
   "name": "python3"
  },
  "language_info": {
   "codemirror_mode": {
    "name": "ipython",
    "version": 3
   },
   "file_extension": ".py",
   "mimetype": "text/x-python",
   "name": "python",
   "nbconvert_exporter": "python",
   "pygments_lexer": "ipython3",
   "version": "3.9.13"
  }
 },
 "nbformat": 4,
 "nbformat_minor": 5
}
