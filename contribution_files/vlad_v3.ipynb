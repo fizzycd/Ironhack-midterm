{
 "cells": [
  {
   "cell_type": "markdown",
   "id": "e29e9301",
   "metadata": {},
   "source": [
    "# Used cars price prediction - Ironhack midterm project"
   ]
  },
  {
   "cell_type": "markdown",
   "id": "37dad8cd",
   "metadata": {},
   "source": [
    "## 1. EDA"
   ]
  },
  {
   "cell_type": "code",
   "execution_count": 1,
   "id": "38a4aa95",
   "metadata": {},
   "outputs": [],
   "source": [
    "import pandas as pd\n",
    "import numpy as np\n",
    "import statistics as stats\n",
    "import seaborn as sns\n",
    "import matplotlib.pyplot as plt\n",
    "import math\n",
    "from sklearn.preprocessing import PowerTransformer, StandardScaler, minmax_scale, OneHotEncoder\n",
    "%matplotlib inline\n",
    "\n",
    "from scipy.stats import iqr\n",
    "from sklearn.compose import ColumnTransformer\n",
    "from sklearn.linear_model import LinearRegression\n",
    "from sklearn.model_selection import train_test_split\n",
    "import statsmodels.api as sm\n",
    "\n",
    "from sklearn.metrics import r2_score\n",
    "from sklearn.metrics import mean_squared_error as mse\n",
    "from sklearn.metrics import mean_absolute_error as mae"
   ]
  },
  {
   "cell_type": "markdown",
   "id": "a8a39394",
   "metadata": {},
   "source": [
    "#### EDA results:\n",
    "\n",
    "* 'car data.csv' has anomalies in feature values; the file is ignored in the analysis due to its low statistical value with only 300 rows.\n",
    "* 'model' and 'engine' categorical columns have too many unique values; these columns will be ignored for the final data set due to the amount of dummified columns they would create after normalizing the data.\n",
    "* 'seats' column has nine unique values and will be used as the closest present alternative to vehicle type.\n",
    "* in order to concatenate the csv files into one dataframe columns 'location', 'color', 'mileage', 'max power', 'max torque', 'drivetrain', 'length', 'width', 'height', 'fuel tank capacity' will be ignored, since they are not present in each file.\n",
    "* concatenating three csv files will result in a dataframe with roughly over 14k observations.\n",
    "* no outliers require removal."
   ]
  },
  {
   "cell_type": "code",
   "execution_count": 2,
   "id": "5b8ff04d",
   "metadata": {},
   "outputs": [],
   "source": [
    "df2 = pd.read_csv('../data/Car details v3.csv')\n",
    "df3 = pd.read_csv('../data/car details v4.csv')"
   ]
  },
  {
   "cell_type": "code",
   "execution_count": 3,
   "id": "504e8696",
   "metadata": {},
   "outputs": [
    {
     "data": {
      "text/html": [
       "<div>\n",
       "<style scoped>\n",
       "    .dataframe tbody tr th:only-of-type {\n",
       "        vertical-align: middle;\n",
       "    }\n",
       "\n",
       "    .dataframe tbody tr th {\n",
       "        vertical-align: top;\n",
       "    }\n",
       "\n",
       "    .dataframe thead th {\n",
       "        text-align: right;\n",
       "    }\n",
       "</style>\n",
       "<table border=\"1\" class=\"dataframe\">\n",
       "  <thead>\n",
       "    <tr style=\"text-align: right;\">\n",
       "      <th></th>\n",
       "      <th>name</th>\n",
       "      <th>year</th>\n",
       "      <th>selling_price</th>\n",
       "      <th>km_driven</th>\n",
       "      <th>fuel</th>\n",
       "      <th>seller_type</th>\n",
       "      <th>transmission</th>\n",
       "      <th>owner</th>\n",
       "      <th>mileage</th>\n",
       "      <th>engine</th>\n",
       "      <th>max_power</th>\n",
       "      <th>torque</th>\n",
       "      <th>seats</th>\n",
       "    </tr>\n",
       "  </thead>\n",
       "  <tbody>\n",
       "    <tr>\n",
       "      <th>0</th>\n",
       "      <td>Maruti Swift Dzire VDI</td>\n",
       "      <td>2014</td>\n",
       "      <td>450000</td>\n",
       "      <td>145500</td>\n",
       "      <td>Diesel</td>\n",
       "      <td>Individual</td>\n",
       "      <td>Manual</td>\n",
       "      <td>First Owner</td>\n",
       "      <td>23.4 kmpl</td>\n",
       "      <td>1248 CC</td>\n",
       "      <td>74 bhp</td>\n",
       "      <td>190Nm@ 2000rpm</td>\n",
       "      <td>5.0</td>\n",
       "    </tr>\n",
       "  </tbody>\n",
       "</table>\n",
       "</div>"
      ],
      "text/plain": [
       "                     name  year  selling_price  km_driven    fuel seller_type  \\\n",
       "0  Maruti Swift Dzire VDI  2014         450000     145500  Diesel  Individual   \n",
       "\n",
       "  transmission        owner    mileage   engine max_power          torque  \\\n",
       "0       Manual  First Owner  23.4 kmpl  1248 CC    74 bhp  190Nm@ 2000rpm   \n",
       "\n",
       "   seats  \n",
       "0    5.0  "
      ]
     },
     "execution_count": 3,
     "metadata": {},
     "output_type": "execute_result"
    }
   ],
   "source": [
    "df2.head(1)"
   ]
  },
  {
   "cell_type": "code",
   "execution_count": 4,
   "id": "d165f328",
   "metadata": {},
   "outputs": [
    {
     "data": {
      "text/html": [
       "<div>\n",
       "<style scoped>\n",
       "    .dataframe tbody tr th:only-of-type {\n",
       "        vertical-align: middle;\n",
       "    }\n",
       "\n",
       "    .dataframe tbody tr th {\n",
       "        vertical-align: top;\n",
       "    }\n",
       "\n",
       "    .dataframe thead th {\n",
       "        text-align: right;\n",
       "    }\n",
       "</style>\n",
       "<table border=\"1\" class=\"dataframe\">\n",
       "  <thead>\n",
       "    <tr style=\"text-align: right;\">\n",
       "      <th></th>\n",
       "      <th>Make</th>\n",
       "      <th>Model</th>\n",
       "      <th>Price</th>\n",
       "      <th>Year</th>\n",
       "      <th>Kilometer</th>\n",
       "      <th>Fuel Type</th>\n",
       "      <th>Transmission</th>\n",
       "      <th>Location</th>\n",
       "      <th>Color</th>\n",
       "      <th>Owner</th>\n",
       "      <th>Seller Type</th>\n",
       "      <th>Engine</th>\n",
       "      <th>Max Power</th>\n",
       "      <th>Max Torque</th>\n",
       "      <th>Drivetrain</th>\n",
       "      <th>Length</th>\n",
       "      <th>Width</th>\n",
       "      <th>Height</th>\n",
       "      <th>Seating Capacity</th>\n",
       "      <th>Fuel Tank Capacity</th>\n",
       "    </tr>\n",
       "  </thead>\n",
       "  <tbody>\n",
       "    <tr>\n",
       "      <th>0</th>\n",
       "      <td>Honda</td>\n",
       "      <td>Amaze 1.2 VX i-VTEC</td>\n",
       "      <td>505000</td>\n",
       "      <td>2017</td>\n",
       "      <td>87150</td>\n",
       "      <td>Petrol</td>\n",
       "      <td>Manual</td>\n",
       "      <td>Pune</td>\n",
       "      <td>Grey</td>\n",
       "      <td>First</td>\n",
       "      <td>Corporate</td>\n",
       "      <td>1198 cc</td>\n",
       "      <td>87 bhp @ 6000 rpm</td>\n",
       "      <td>109 Nm @ 4500 rpm</td>\n",
       "      <td>FWD</td>\n",
       "      <td>3990.0</td>\n",
       "      <td>1680.0</td>\n",
       "      <td>1505.0</td>\n",
       "      <td>5.0</td>\n",
       "      <td>35.0</td>\n",
       "    </tr>\n",
       "  </tbody>\n",
       "</table>\n",
       "</div>"
      ],
      "text/plain": [
       "    Make                Model   Price  Year  Kilometer Fuel Type Transmission  \\\n",
       "0  Honda  Amaze 1.2 VX i-VTEC  505000  2017      87150    Petrol       Manual   \n",
       "\n",
       "  Location Color  Owner Seller Type   Engine          Max Power  \\\n",
       "0     Pune  Grey  First   Corporate  1198 cc  87 bhp @ 6000 rpm   \n",
       "\n",
       "          Max Torque Drivetrain  Length   Width  Height  Seating Capacity  \\\n",
       "0  109 Nm @ 4500 rpm        FWD  3990.0  1680.0  1505.0               5.0   \n",
       "\n",
       "   Fuel Tank Capacity  \n",
       "0                35.0  "
      ]
     },
     "execution_count": 4,
     "metadata": {},
     "output_type": "execute_result"
    }
   ],
   "source": [
    "df3.head(1)"
   ]
  },
  {
   "cell_type": "markdown",
   "id": "8120d8dd",
   "metadata": {},
   "source": [
    "## 2. Data cleaning"
   ]
  },
  {
   "cell_type": "markdown",
   "id": "65ad26ad",
   "metadata": {},
   "source": [
    "#### data cleaning results:\n",
    "* extracted the first word (Make) in the 'name' and 'owner' columns.\n",
    "* dropped extra columns.\n",
    "* formatted 'selling price' column.\n",
    "* concatenated three files into a new dataframe.\n",
    "* checked for null values (there aren't any).\n",
    "* checked for duplicates (2.2k duplicated found) and droppped them.\n",
    "* check data types (all correct)."
   ]
  },
  {
   "cell_type": "code",
   "execution_count": 5,
   "id": "3956a12a",
   "metadata": {},
   "outputs": [],
   "source": [
    "df2['name'] = df2['name'].apply(lambda x: x.split()[0])\n",
    "df2['owner'] = df2['owner'].apply(lambda x: x.split()[0])"
   ]
  },
  {
   "cell_type": "code",
   "execution_count": 6,
   "id": "806da4e2",
   "metadata": {},
   "outputs": [],
   "source": [
    "df3.rename(columns=\n",
    "           {\"Year\": \"year\",\n",
    "            \"Price\": \"selling_price\",\n",
    "            \"Kilometer\": \"km_driven\", \n",
    "            \"Fuel Type\": \"fuel\", \n",
    "            \"Seller Type\": \"seller_type\", \n",
    "            \"Transmission\": \"transmission\", \n",
    "            \"Make\": \"name\",\n",
    "            \"Owner\": \"owner\",\n",
    "            \"Seating Capacity\": \"seats\"},inplace=True)\n",
    "\n",
    "df2[\"selling_price\"] /= 100\n",
    "df2[\"selling_price\"] = df2[\"selling_price\"].astype(int)\n",
    "\n",
    "df3[\"selling_price\"] /= 100\n",
    "df3[\"selling_price\"] = df3[\"selling_price\"].astype(int)"
   ]
  },
  {
   "cell_type": "code",
   "execution_count": 7,
   "id": "d34810fc",
   "metadata": {},
   "outputs": [],
   "source": [
    "df2.drop(['mileage', 'engine', 'max_power', 'torque'], axis=1, inplace=True)\n",
    "df3.drop(['Model', 'Location', 'Color', 'Engine', 'Max Power', 'Max Torque', \n",
    "          'Drivetrain', 'Length', 'Width', 'Height', 'Fuel Tank Capacity'], axis=1, inplace=True)\n"
   ]
  },
  {
   "cell_type": "code",
   "execution_count": 8,
   "id": "fcf6a399",
   "metadata": {},
   "outputs": [],
   "source": [
    "df = pd.concat([df2, df3], ignore_index=True)"
   ]
  },
  {
   "cell_type": "code",
   "execution_count": 9,
   "id": "542299ae",
   "metadata": {},
   "outputs": [
    {
     "data": {
      "text/plain": [
       "array([ 5.,  4., nan,  7.,  8.,  6.,  9., 10., 14.,  2.])"
      ]
     },
     "execution_count": 9,
     "metadata": {},
     "output_type": "execute_result"
    }
   ],
   "source": [
    "df['seats'].unique()"
   ]
  },
  {
   "cell_type": "code",
   "execution_count": 10,
   "id": "a9ef89b9",
   "metadata": {},
   "outputs": [],
   "source": [
    "#check for duplicates\n",
    "dup = df[df.duplicated(keep=False)].sort_values(by=['selling_price'])"
   ]
  },
  {
   "cell_type": "code",
   "execution_count": 11,
   "id": "12426f42",
   "metadata": {
    "scrolled": false
   },
   "outputs": [],
   "source": [
    "#drop duplicates\n",
    "df.drop_duplicates(inplace=True, ignore_index=True)"
   ]
  },
  {
   "cell_type": "code",
   "execution_count": 12,
   "id": "2090615f",
   "metadata": {
    "scrolled": false
   },
   "outputs": [],
   "source": [
    "#change 'year' to 'age' (and count it)\n",
    "df.rename(columns={'year': 'age'}, inplace=True)\n",
    "df['age'] = df['age'].apply(lambda x: df['age'].max()+1-x)"
   ]
  },
  {
   "cell_type": "code",
   "execution_count": 13,
   "id": "e74cb3d2",
   "metadata": {},
   "outputs": [],
   "source": [
    "#clean values in 'fuel' column\n",
    "def clean_fuel(value):\n",
    "    if 'CNG' in value:\n",
    "        value = 'CNG'\n",
    "    elif 'Petrol' in value:\n",
    "        value = 'Petrol'\n",
    "    return value\n",
    "\n",
    "df['fuel'] = df['fuel'].apply(lambda x: clean_fuel(x))"
   ]
  },
  {
   "cell_type": "code",
   "execution_count": 14,
   "id": "095febf7",
   "metadata": {},
   "outputs": [],
   "source": [
    "#transform values in 'owner' column\n",
    "def clean_owner(value):\n",
    "    if value == 'Test' or value == 'UnRegistered Car':\n",
    "        value = 0\n",
    "    elif value == 'First':\n",
    "        value = 1\n",
    "    elif value == 'Second':\n",
    "        value = 2\n",
    "    elif value == 'Third':\n",
    "        value = 3\n",
    "    elif value == 'Fourth':\n",
    "        value = 4\n",
    "    elif value == '4 or More':\n",
    "        value = 5\n",
    "    return value\n",
    "\n",
    "df['owner'] = df['owner'].apply(lambda x: clean_owner(x))"
   ]
  },
  {
   "cell_type": "code",
   "execution_count": 15,
   "id": "4ea9bdae",
   "metadata": {},
   "outputs": [],
   "source": [
    "#clean 'seller_type' column\n",
    "def clean_seller(value):\n",
    "    if 'Dealer' in value:\n",
    "        value = 'Dealer'\n",
    "    elif value == 'Commercial Registration':\n",
    "        value = 'Corporate'\n",
    "    return value\n",
    "\n",
    "df['seller_type'] = df['seller_type'].apply(lambda x: clean_seller(x))"
   ]
  },
  {
   "cell_type": "code",
   "execution_count": 16,
   "id": "3607020b",
   "metadata": {},
   "outputs": [
    {
     "name": "stdout",
     "output_type": "stream",
     "text": [
      "<class 'pandas.core.series.Series'>\n",
      "RangeIndex: 8905 entries, 0 to 8904\n",
      "Series name: seats\n",
      "Non-Null Count  Dtype  \n",
      "--------------  -----  \n",
      "8633 non-null   float64\n",
      "dtypes: float64(1)\n",
      "memory usage: 69.7 KB\n"
     ]
    }
   ],
   "source": [
    "df['seats'].info()"
   ]
  },
  {
   "cell_type": "markdown",
   "id": "473dca1b",
   "metadata": {},
   "source": [
    "## Data transformation"
   ]
  },
  {
   "cell_type": "markdown",
   "id": "48a1356f",
   "metadata": {},
   "source": [
    "#### Results:\n",
    "* Made plots for km driven, year & selling price."
   ]
  },
  {
   "cell_type": "code",
   "execution_count": 17,
   "id": "9d00c527",
   "metadata": {},
   "outputs": [
    {
     "data": {
      "image/png": "[encoded data removed]",
      "text/plain": [
       "<Figure size 640x480 with 1 Axes>"
      ]
     },
     "metadata": {},
     "output_type": "display_data"
    }
   ],
   "source": [
    "plt.scatter(x=df['km_driven'], y=df['selling_price'],c='g')\n",
    "plt.show()"
   ]
  },
  {
   "cell_type": "code",
   "execution_count": 18,
   "id": "b2a93434",
   "metadata": {},
   "outputs": [
    {
     "data": {
      "image/png": "[encoded data removed]",
      "text/plain": [
       "<Figure size 640x480 with 1 Axes>"
      ]
     },
     "metadata": {},
     "output_type": "display_data"
    }
   ],
   "source": [
    "plt.scatter(x=df['age'], y=df['selling_price'],c='g')\n",
    "plt.show()"
   ]
  },
  {
   "cell_type": "markdown",
   "id": "30d90fc3",
   "metadata": {},
   "source": [
    "#### removing outliers"
   ]
  },
  {
   "cell_type": "code",
   "execution_count": 19,
   "id": "e676c337",
   "metadata": {},
   "outputs": [],
   "source": [
    "#remove outliers\n",
    "def remove_outliers(df):\n",
    "    for c in df.columns:\n",
    "            pct_75 = np.percentile(df[c], 75)\n",
    "            pct_25 = np.percentile(df[c], 25)\n",
    "            upper_bound = pct_75 + 1.5*iqr(df[c])\n",
    "            lower_bound = pct_25 - 1.5*iqr(df[c])\n",
    "            condition = (df[c] < upper_bound) & (df[c] > lower_bound)\n",
    "            df[c] = df[c][condition]\n",
    "    return df"
   ]
  },
  {
   "cell_type": "code",
   "execution_count": 20,
   "id": "e295a698",
   "metadata": {},
   "outputs": [],
   "source": [
    "df.dropna(inplace=True)\n",
    "df.reset_index(inplace=True)"
   ]
  },
  {
   "cell_type": "code",
   "execution_count": 21,
   "id": "e2b13299",
   "metadata": {},
   "outputs": [],
   "source": [
    "numerical = df.select_dtypes(include=[np.number])\n",
    "categorical = df.select_dtypes(include=[object])"
   ]
  },
  {
   "cell_type": "code",
   "execution_count": 22,
   "id": "9efbfd87",
   "metadata": {},
   "outputs": [],
   "source": [
    "#numerical = remove_outliers(numerical)\n",
    "numerical_noseats = numerical.drop(['seats'], axis=1)\n",
    "numerical_noseats = remove_outliers(numerical_noseats)\n",
    "numerical_seats = numerical['seats']\n",
    "numerical_noseats.reset_index(inplace=True)\n",
    "\n",
    "numerical = pd.concat([numerical_noseats, numerical_seats], axis=1)"
   ]
  },
  {
   "cell_type": "code",
   "execution_count": 23,
   "id": "54755d1d",
   "metadata": {},
   "outputs": [
    {
     "data": {
      "text/html": [
       "<div>\n",
       "<style scoped>\n",
       "    .dataframe tbody tr th:only-of-type {\n",
       "        vertical-align: middle;\n",
       "    }\n",
       "\n",
       "    .dataframe tbody tr th {\n",
       "        vertical-align: top;\n",
       "    }\n",
       "\n",
       "    .dataframe thead th {\n",
       "        text-align: right;\n",
       "    }\n",
       "</style>\n",
       "<table border=\"1\" class=\"dataframe\">\n",
       "  <thead>\n",
       "    <tr style=\"text-align: right;\">\n",
       "      <th></th>\n",
       "      <th>level_0</th>\n",
       "      <th>index</th>\n",
       "      <th>age</th>\n",
       "      <th>selling_price</th>\n",
       "      <th>km_driven</th>\n",
       "      <th>owner</th>\n",
       "      <th>seats</th>\n",
       "    </tr>\n",
       "  </thead>\n",
       "  <tbody>\n",
       "    <tr>\n",
       "      <th>0</th>\n",
       "      <td>0</td>\n",
       "      <td>0</td>\n",
       "      <td>9.0</td>\n",
       "      <td>4500.0</td>\n",
       "      <td>145500.0</td>\n",
       "      <td>1.0</td>\n",
       "      <td>5.0</td>\n",
       "    </tr>\n",
       "    <tr>\n",
       "      <th>1</th>\n",
       "      <td>1</td>\n",
       "      <td>1</td>\n",
       "      <td>9.0</td>\n",
       "      <td>3700.0</td>\n",
       "      <td>120000.0</td>\n",
       "      <td>2.0</td>\n",
       "      <td>5.0</td>\n",
       "    </tr>\n",
       "    <tr>\n",
       "      <th>2</th>\n",
       "      <td>2</td>\n",
       "      <td>2</td>\n",
       "      <td>17.0</td>\n",
       "      <td>1580.0</td>\n",
       "      <td>140000.0</td>\n",
       "      <td>3.0</td>\n",
       "      <td>5.0</td>\n",
       "    </tr>\n",
       "    <tr>\n",
       "      <th>3</th>\n",
       "      <td>3</td>\n",
       "      <td>3</td>\n",
       "      <td>13.0</td>\n",
       "      <td>2250.0</td>\n",
       "      <td>127000.0</td>\n",
       "      <td>1.0</td>\n",
       "      <td>5.0</td>\n",
       "    </tr>\n",
       "    <tr>\n",
       "      <th>4</th>\n",
       "      <td>4</td>\n",
       "      <td>4</td>\n",
       "      <td>16.0</td>\n",
       "      <td>1300.0</td>\n",
       "      <td>120000.0</td>\n",
       "      <td>1.0</td>\n",
       "      <td>5.0</td>\n",
       "    </tr>\n",
       "    <tr>\n",
       "      <th>...</th>\n",
       "      <td>...</td>\n",
       "      <td>...</td>\n",
       "      <td>...</td>\n",
       "      <td>...</td>\n",
       "      <td>...</td>\n",
       "      <td>...</td>\n",
       "      <td>...</td>\n",
       "    </tr>\n",
       "    <tr>\n",
       "      <th>8628</th>\n",
       "      <td>8628</td>\n",
       "      <td>8900</td>\n",
       "      <td>7.0</td>\n",
       "      <td>8500.0</td>\n",
       "      <td>90300.0</td>\n",
       "      <td>1.0</td>\n",
       "      <td>7.0</td>\n",
       "    </tr>\n",
       "    <tr>\n",
       "      <th>8629</th>\n",
       "      <td>8629</td>\n",
       "      <td>8901</td>\n",
       "      <td>9.0</td>\n",
       "      <td>2750.0</td>\n",
       "      <td>83000.0</td>\n",
       "      <td>2.0</td>\n",
       "      <td>5.0</td>\n",
       "    </tr>\n",
       "    <tr>\n",
       "      <th>8630</th>\n",
       "      <td>8630</td>\n",
       "      <td>8902</td>\n",
       "      <td>10.0</td>\n",
       "      <td>2400.0</td>\n",
       "      <td>73000.0</td>\n",
       "      <td>1.0</td>\n",
       "      <td>5.0</td>\n",
       "    </tr>\n",
       "    <tr>\n",
       "      <th>8631</th>\n",
       "      <td>8631</td>\n",
       "      <td>8903</td>\n",
       "      <td>5.0</td>\n",
       "      <td>NaN</td>\n",
       "      <td>60474.0</td>\n",
       "      <td>1.0</td>\n",
       "      <td>5.0</td>\n",
       "    </tr>\n",
       "    <tr>\n",
       "      <th>8632</th>\n",
       "      <td>8632</td>\n",
       "      <td>8904</td>\n",
       "      <td>6.0</td>\n",
       "      <td>6700.0</td>\n",
       "      <td>72000.0</td>\n",
       "      <td>1.0</td>\n",
       "      <td>7.0</td>\n",
       "    </tr>\n",
       "  </tbody>\n",
       "</table>\n",
       "<p>8633 rows × 7 columns</p>\n",
       "</div>"
      ],
      "text/plain": [
       "      level_0  index   age  selling_price  km_driven  owner  seats\n",
       "0           0      0   9.0         4500.0   145500.0    1.0    5.0\n",
       "1           1      1   9.0         3700.0   120000.0    2.0    5.0\n",
       "2           2      2  17.0         1580.0   140000.0    3.0    5.0\n",
       "3           3      3  13.0         2250.0   127000.0    1.0    5.0\n",
       "4           4      4  16.0         1300.0   120000.0    1.0    5.0\n",
       "...       ...    ...   ...            ...        ...    ...    ...\n",
       "8628     8628   8900   7.0         8500.0    90300.0    1.0    7.0\n",
       "8629     8629   8901   9.0         2750.0    83000.0    2.0    5.0\n",
       "8630     8630   8902  10.0         2400.0    73000.0    1.0    5.0\n",
       "8631     8631   8903   5.0            NaN    60474.0    1.0    5.0\n",
       "8632     8632   8904   6.0         6700.0    72000.0    1.0    7.0\n",
       "\n",
       "[8633 rows x 7 columns]"
      ]
     },
     "execution_count": 23,
     "metadata": {},
     "output_type": "execute_result"
    }
   ],
   "source": [
    "numerical"
   ]
  },
  {
   "cell_type": "code",
   "execution_count": 24,
   "id": "657ab308",
   "metadata": {},
   "outputs": [],
   "source": [
    "df = pd.concat([numerical, categorical], axis=1)"
   ]
  },
  {
   "cell_type": "code",
   "execution_count": 25,
   "id": "d6fe76ea",
   "metadata": {},
   "outputs": [],
   "source": [
    "df.dropna(inplace=True)"
   ]
  },
  {
   "cell_type": "code",
   "execution_count": 26,
   "id": "4ed4cf69",
   "metadata": {},
   "outputs": [],
   "source": [
    "df.reset_index(drop=True, inplace=True)"
   ]
  },
  {
   "cell_type": "markdown",
   "id": "d8327c94",
   "metadata": {},
   "source": [
    "#### X, y & train, test split"
   ]
  },
  {
   "cell_type": "code",
   "execution_count": 27,
   "id": "16270c1b",
   "metadata": {},
   "outputs": [
    {
     "data": {
      "text/plain": [
       "False"
      ]
     },
     "execution_count": 27,
     "metadata": {},
     "output_type": "execute_result"
    }
   ],
   "source": [
    "df.isna().any().any()"
   ]
  },
  {
   "cell_type": "code",
   "execution_count": 28,
   "id": "5b768f27",
   "metadata": {},
   "outputs": [],
   "source": [
    "X = df.drop('selling_price', axis=1)\n",
    "y = df[['selling_price']].copy()"
   ]
  },
  {
   "cell_type": "code",
   "execution_count": 29,
   "id": "3adb6598",
   "metadata": {},
   "outputs": [],
   "source": [
    "numericalX = X.select_dtypes(include=[np.number])\n",
    "categoricalX = X.select_dtypes(include=[object])\n",
    "\n",
    "numericalX_columns = numericalX.columns"
   ]
  },
  {
   "cell_type": "code",
   "execution_count": 30,
   "id": "a81fc580",
   "metadata": {},
   "outputs": [],
   "source": [
    "scaler = StandardScaler()\n",
    "scaler.fit(numericalX)\n",
    "numericalX = scaler.transform(numericalX)\n",
    "\n",
    "pt = PowerTransformer()\n",
    "pt.fit(numericalX)\n",
    "numericalX = pt.transform(numericalX)\n",
    "\n",
    "numericalX = pd.DataFrame(numericalX, columns=numericalX_columns)\n",
    "categoricalX = pd.get_dummies(categoricalX)\n",
    "\n",
    "numericalX.reset_index(drop=True, inplace=True)\n",
    "categoricalX.reset_index(drop=True, inplace=True)"
   ]
  },
  {
   "cell_type": "code",
   "execution_count": 31,
   "id": "d55137b5",
   "metadata": {},
   "outputs": [],
   "source": [
    "#concat\n",
    "X = pd.concat([categoricalX, numericalX], axis=1, copy=False)"
   ]
  },
  {
   "cell_type": "code",
   "execution_count": 32,
   "id": "759b0b99",
   "metadata": {},
   "outputs": [],
   "source": [
    "tt_ratio = 0.3\n",
    "rand_seed = 40"
   ]
  },
  {
   "cell_type": "code",
   "execution_count": 33,
   "id": "d9263f16",
   "metadata": {},
   "outputs": [],
   "source": [
    "X_train, X_test, y_train, y_test = train_test_split(X, y, test_size=tt_ratio, random_state=rand_seed)\n",
    "X_train = pd.DataFrame(X_train)\n",
    "X_test = pd.DataFrame(X_test)"
   ]
  },
  {
   "cell_type": "code",
   "execution_count": 34,
   "id": "9cbc77a4",
   "metadata": {},
   "outputs": [
    {
     "name": "stdout",
     "output_type": "stream",
     "text": [
      "                            OLS Regression Results                            \n",
      "==============================================================================\n",
      "Dep. Variable:          selling_price   R-squared:                       0.689\n",
      "Model:                            OLS   Adj. R-squared:                  0.687\n",
      "Method:                 Least Squares   F-statistic:                     283.7\n",
      "Date:                Wed, 08 Feb 2023   Prob (F-statistic):               0.00\n",
      "Time:                        16:31:16   Log-Likelihood:                -44134.\n",
      "No. Observations:                5031   AIC:                         8.835e+04\n",
      "Df Residuals:                    4991   BIC:                         8.861e+04\n",
      "Df Model:                          39                                         \n",
      "Covariance Type:            nonrobust                                         \n",
      "==============================================================================\n",
      "                 coef    std err          t      P>|t|      [0.025      0.975]\n",
      "------------------------------------------------------------------------------\n",
      "const      -4.225e+15    4.9e+15     -0.863      0.388   -1.38e+16    5.38e+15\n",
      "x1          -1.68e+14   1.95e+14     -0.863      0.388    -5.5e+14    2.14e+14\n",
      "x2          -1.68e+14   1.95e+14     -0.863      0.388    -5.5e+14    2.14e+14\n",
      "x3          -1.68e+14   1.95e+14     -0.863      0.388    -5.5e+14    2.14e+14\n",
      "x4          -1.68e+14   1.95e+14     -0.863      0.388    -5.5e+14    2.14e+14\n",
      "x5          -1.68e+14   1.95e+14     -0.863      0.388    -5.5e+14    2.14e+14\n",
      "x6          -1.68e+14   1.95e+14     -0.863      0.388    -5.5e+14    2.14e+14\n",
      "x7          -1.68e+14   1.95e+14     -0.863      0.388    -5.5e+14    2.14e+14\n",
      "x8          -1.68e+14   1.95e+14     -0.863      0.388    -5.5e+14    2.14e+14\n",
      "x9          -1.68e+14   1.95e+14     -0.863      0.388    -5.5e+14    2.14e+14\n",
      "x10         -1.68e+14   1.95e+14     -0.863      0.388    -5.5e+14    2.14e+14\n",
      "x11         -1.68e+14   1.95e+14     -0.863      0.388    -5.5e+14    2.14e+14\n",
      "x12         -1.68e+14   1.95e+14     -0.863      0.388    -5.5e+14    2.14e+14\n",
      "x13         -1.68e+14   1.95e+14     -0.863      0.388    -5.5e+14    2.14e+14\n",
      "x14         -1.68e+14   1.95e+14     -0.863      0.388    -5.5e+14    2.14e+14\n",
      "x15         -1.68e+14   1.95e+14     -0.863      0.388    -5.5e+14    2.14e+14\n",
      "x16         -1.68e+14   1.95e+14     -0.863      0.388    -5.5e+14    2.14e+14\n",
      "x17         -1.68e+14   1.95e+14     -0.863      0.388    -5.5e+14    2.14e+14\n",
      "x18         -1.68e+14   1.95e+14     -0.863      0.388    -5.5e+14    2.14e+14\n",
      "x19         -1.68e+14   1.95e+14     -0.863      0.388    -5.5e+14    2.14e+14\n",
      "x20         -1.68e+14   1.95e+14     -0.863      0.388    -5.5e+14    2.14e+14\n",
      "x21         -1.68e+14   1.95e+14     -0.863      0.388    -5.5e+14    2.14e+14\n",
      "x22         -1.68e+14   1.95e+14     -0.863      0.388    -5.5e+14    2.14e+14\n",
      "x23         -1.68e+14   1.95e+14     -0.863      0.388    -5.5e+14    2.14e+14\n",
      "x24         -1.68e+14   1.95e+14     -0.863      0.388    -5.5e+14    2.14e+14\n",
      "x25         -1.68e+14   1.95e+14     -0.863      0.388    -5.5e+14    2.14e+14\n",
      "x26         -1.68e+14   1.95e+14     -0.863      0.388    -5.5e+14    2.14e+14\n",
      "x27         -1.68e+14   1.95e+14     -0.863      0.388    -5.5e+14    2.14e+14\n",
      "x28         3.651e+14   4.23e+14      0.863      0.388   -4.64e+14    1.19e+15\n",
      "x29         3.651e+14   4.23e+14      0.863      0.388   -4.64e+14    1.19e+15\n",
      "x30         3.651e+14   4.23e+14      0.863      0.388   -4.64e+14    1.19e+15\n",
      "x31         3.651e+14   4.23e+14      0.863      0.388   -4.64e+14    1.19e+15\n",
      "x32         3.651e+14   4.23e+14      0.863      0.388   -4.64e+14    1.19e+15\n",
      "x33         1.607e+15   1.86e+15      0.863      0.388   -2.04e+15    5.26e+15\n",
      "x34         1.607e+15   1.86e+15      0.863      0.388   -2.04e+15    5.26e+15\n",
      "x35         1.607e+15   1.86e+15      0.863      0.388   -2.04e+15    5.26e+15\n",
      "x36         2.421e+15   2.81e+15      0.863      0.388   -3.08e+15    7.92e+15\n",
      "x37         2.421e+15   2.81e+15      0.863      0.388   -3.08e+15    7.92e+15\n",
      "x38         1.042e+04    1.7e+04      0.611      0.541    -2.3e+04    4.38e+04\n",
      "x39         -1.03e+04    1.7e+04     -0.604      0.546   -4.37e+04    2.31e+04\n",
      "x40        -1573.3861     29.774    -52.844      0.000   -1631.756   -1515.016\n",
      "x41         -156.8179     30.586     -5.127      0.000    -216.780     -96.856\n",
      "x42         -142.3632     24.901     -5.717      0.000    -191.181     -93.545\n",
      "x43          456.5408     28.250     16.161      0.000     401.159     511.923\n",
      "==============================================================================\n",
      "Omnibus:                      520.508   Durbin-Watson:                   2.013\n",
      "Prob(Omnibus):                  0.000   Jarque-Bera (JB):              965.281\n",
      "Skew:                           0.694   Prob(JB):                    2.47e-210\n",
      "Kurtosis:                       4.637   Cond. No.                     1.21e+16\n",
      "==============================================================================\n",
      "\n",
      "Notes:\n",
      "[1] Standard Errors assume that the covariance matrix of the errors is correctly specified.\n",
      "[2] The smallest eigenvalue is 1.15e-28. This might indicate that there are\n",
      "strong multicollinearity problems or that the design matrix is singular.\n"
     ]
    }
   ],
   "source": [
    "X_train_const = sm.add_constant(X_train.to_numpy()) # adding a constant\n",
    "X_test_const = sm.add_constant(X_test) # adding a constant\n",
    "\n",
    "model = sm.OLS(y_train, X_train_const).fit()\n",
    "\n",
    "print_model = model.summary()\n",
    "print(print_model)"
   ]
  },
  {
   "cell_type": "code",
   "execution_count": 35,
   "id": "6eaaeabc",
   "metadata": {},
   "outputs": [
    {
     "data": {
      "text/plain": [
       "LinearRegression()"
      ]
     },
     "execution_count": 35,
     "metadata": {},
     "output_type": "execute_result"
    }
   ],
   "source": [
    "model = LinearRegression()    # model\n",
    "model.fit(X_train, y_train)   # model train"
   ]
  },
  {
   "cell_type": "code",
   "execution_count": 36,
   "id": "0fa2b651",
   "metadata": {},
   "outputs": [],
   "source": [
    "y_pred = pd.DataFrame(model.predict(X_test),columns = ['selling_price'] )      # model prediction"
   ]
  },
  {
   "cell_type": "code",
   "execution_count": 37,
   "id": "5288f9ee",
   "metadata": {},
   "outputs": [
    {
     "data": {
      "text/plain": [
       "selling_price    350.0\n",
       "dtype: float64"
      ]
     },
     "execution_count": 37,
     "metadata": {},
     "output_type": "execute_result"
    }
   ],
   "source": [
    "y_train.min()"
   ]
  },
  {
   "cell_type": "code",
   "execution_count": 38,
   "id": "1939801a",
   "metadata": {},
   "outputs": [
    {
     "data": {
      "text/plain": [
       "[Text(0.5, 0, 'predicted'), Text(0, 0.5, 'test')]"
      ]
     },
     "execution_count": 38,
     "metadata": {},
     "output_type": "execute_result"
    },
    {
     "data": {
      "image/png": "[encoded data removed]",
      "text/plain": [
       "<Figure size 640x480 with 1 Axes>"
      ]
     },
     "metadata": {},
     "output_type": "display_data"
    }
   ],
   "source": [
    "yp = y_pred.to_numpy()\n",
    "yt = y_test.to_numpy()\n",
    "\n",
    "plot = sns.regplot(x=yp,y=yt,scatter_kws={\"color\": \"red\"}, line_kws={\"color\": \"black\"})\n",
    "plot.set(xlabel='predicted', ylabel='test')"
   ]
  }
 ],
 "metadata": {
  "kernelspec": {
   "display_name": "Python 3 (ipykernel)",
   "language": "python",
   "name": "python3"
  },
  "language_info": {
   "codemirror_mode": {
    "name": "ipython",
    "version": 3
   },
   "file_extension": ".py",
   "mimetype": "text/x-python",
   "name": "python",
   "nbconvert_exporter": "python",
   "pygments_lexer": "ipython3",
   "version": "3.9.13"
  }
 },
 "nbformat": 4,
 "nbformat_minor": 5
}
