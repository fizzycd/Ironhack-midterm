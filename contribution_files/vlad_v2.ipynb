{
 "cells": [
  {
   "cell_type": "markdown",
   "id": "e29e9301",
   "metadata": {},
   "source": [
    "# Used cars price prediction - Ironhack midterm project"
   ]
  },
  {
   "cell_type": "markdown",
   "id": "37dad8cd",
   "metadata": {},
   "source": [
    "## 1. EDA"
   ]
  },
  {
   "cell_type": "code",
   "execution_count": 1,
   "id": "38a4aa95",
   "metadata": {},
   "outputs": [],
   "source": [
    "import pandas as pd\n",
    "import numpy as np\n",
    "import statistics as stats\n",
    "import seaborn as sns\n",
    "import matplotlib.pyplot as plt\n",
    "import math\n",
    "from sklearn.preprocessing import PowerTransformer, StandardScaler, minmax_scale, OneHotEncoder\n",
    "%matplotlib inline\n",
    "\n",
    "from scipy.stats import iqr\n",
    "from sklearn.compose import ColumnTransformer\n",
    "from sklearn.linear_model import LinearRegression\n",
    "from sklearn.model_selection import train_test_split\n",
    "import statsmodels.api as sm\n",
    "\n",
    "from sklearn.metrics import r2_score\n",
    "from sklearn.metrics import mean_squared_error as mse\n",
    "from sklearn.metrics import mean_absolute_error as mae"
   ]
  },
  {
   "cell_type": "markdown",
   "id": "a8a39394",
   "metadata": {},
   "source": [
    "#### EDA results:\n",
    "\n",
    "* 'car data.csv' has anomalies in feature values; the file is ignored in the analysis due to its low statistical value with only 300 rows.\n",
    "* 'model' and 'engine' categorical columns have too many unique values these columns will be ignored for the final data set due to the amount of dummified columns they would create after normalizing the data.\n",
    "* 'seats' column has nine unique values and will be used as the closest present alternative to vehicle type.\n",
    "* in order to concatenate the csv files into one dataframe columns 'location', 'color', 'mileage', 'max power', 'max torque', 'drivetrain', 'length', 'width', 'height', 'fuel tank capacity' will be ignored, since they are not present in each file.\n",
    "* concatenating three csv files will result in a dataframe with roughly over 14k observations."
   ]
  },
  {
   "cell_type": "code",
   "execution_count": 2,
   "id": "5b8ff04d",
   "metadata": {},
   "outputs": [],
   "source": [
    "df1 = pd.read_csv('../data/CAR DETAILS FROM CAR DEKHO.csv')\n",
    "df2 = pd.read_csv('../data/Car details v3.csv')\n",
    "df3 = pd.read_csv('../data/car details v4.csv')"
   ]
  },
  {
   "cell_type": "code",
   "execution_count": 3,
   "id": "3bf2d2b1",
   "metadata": {},
   "outputs": [],
   "source": [
    "#df3.iloc[df3['Price'].idxmax()]  # <--- shows that the outliers should not be removed"
   ]
  },
  {
   "cell_type": "code",
   "execution_count": 4,
   "id": "454444a3",
   "metadata": {
    "scrolled": false
   },
   "outputs": [
    {
     "data": {
      "text/html": [
       "<div>\n",
       "<style scoped>\n",
       "    .dataframe tbody tr th:only-of-type {\n",
       "        vertical-align: middle;\n",
       "    }\n",
       "\n",
       "    .dataframe tbody tr th {\n",
       "        vertical-align: top;\n",
       "    }\n",
       "\n",
       "    .dataframe thead th {\n",
       "        text-align: right;\n",
       "    }\n",
       "</style>\n",
       "<table border=\"1\" class=\"dataframe\">\n",
       "  <thead>\n",
       "    <tr style=\"text-align: right;\">\n",
       "      <th></th>\n",
       "      <th>Price</th>\n",
       "      <th>Year</th>\n",
       "      <th>Kilometer</th>\n",
       "      <th>Length</th>\n",
       "      <th>Width</th>\n",
       "      <th>Height</th>\n",
       "      <th>Seating Capacity</th>\n",
       "      <th>Fuel Tank Capacity</th>\n",
       "    </tr>\n",
       "  </thead>\n",
       "  <tbody>\n",
       "    <tr>\n",
       "      <th>count</th>\n",
       "      <td>2059.0</td>\n",
       "      <td>2059.0</td>\n",
       "      <td>2059.0</td>\n",
       "      <td>1995.0</td>\n",
       "      <td>1995.0</td>\n",
       "      <td>1995.0</td>\n",
       "      <td>1995.0</td>\n",
       "      <td>1946.0</td>\n",
       "    </tr>\n",
       "    <tr>\n",
       "      <th>mean</th>\n",
       "      <td>1702992.0</td>\n",
       "      <td>2016.0</td>\n",
       "      <td>54225.0</td>\n",
       "      <td>4281.0</td>\n",
       "      <td>1768.0</td>\n",
       "      <td>1592.0</td>\n",
       "      <td>5.0</td>\n",
       "      <td>52.0</td>\n",
       "    </tr>\n",
       "    <tr>\n",
       "      <th>std</th>\n",
       "      <td>2419881.0</td>\n",
       "      <td>3.0</td>\n",
       "      <td>57362.0</td>\n",
       "      <td>442.0</td>\n",
       "      <td>135.0</td>\n",
       "      <td>136.0</td>\n",
       "      <td>1.0</td>\n",
       "      <td>15.0</td>\n",
       "    </tr>\n",
       "    <tr>\n",
       "      <th>min</th>\n",
       "      <td>49000.0</td>\n",
       "      <td>1988.0</td>\n",
       "      <td>0.0</td>\n",
       "      <td>3099.0</td>\n",
       "      <td>1475.0</td>\n",
       "      <td>1165.0</td>\n",
       "      <td>2.0</td>\n",
       "      <td>15.0</td>\n",
       "    </tr>\n",
       "    <tr>\n",
       "      <th>25%</th>\n",
       "      <td>484999.0</td>\n",
       "      <td>2014.0</td>\n",
       "      <td>29000.0</td>\n",
       "      <td>3985.0</td>\n",
       "      <td>1695.0</td>\n",
       "      <td>1485.0</td>\n",
       "      <td>5.0</td>\n",
       "      <td>41.0</td>\n",
       "    </tr>\n",
       "    <tr>\n",
       "      <th>50%</th>\n",
       "      <td>825000.0</td>\n",
       "      <td>2017.0</td>\n",
       "      <td>50000.0</td>\n",
       "      <td>4370.0</td>\n",
       "      <td>1770.0</td>\n",
       "      <td>1545.0</td>\n",
       "      <td>5.0</td>\n",
       "      <td>50.0</td>\n",
       "    </tr>\n",
       "    <tr>\n",
       "      <th>75%</th>\n",
       "      <td>1925000.0</td>\n",
       "      <td>2019.0</td>\n",
       "      <td>72000.0</td>\n",
       "      <td>4629.0</td>\n",
       "      <td>1832.0</td>\n",
       "      <td>1675.0</td>\n",
       "      <td>5.0</td>\n",
       "      <td>60.0</td>\n",
       "    </tr>\n",
       "    <tr>\n",
       "      <th>max</th>\n",
       "      <td>35000000.0</td>\n",
       "      <td>2022.0</td>\n",
       "      <td>2000000.0</td>\n",
       "      <td>5569.0</td>\n",
       "      <td>2220.0</td>\n",
       "      <td>1995.0</td>\n",
       "      <td>8.0</td>\n",
       "      <td>105.0</td>\n",
       "    </tr>\n",
       "  </tbody>\n",
       "</table>\n",
       "</div>"
      ],
      "text/plain": [
       "            Price    Year  Kilometer  Length   Width  Height  \\\n",
       "count      2059.0  2059.0     2059.0  1995.0  1995.0  1995.0   \n",
       "mean    1702992.0  2016.0    54225.0  4281.0  1768.0  1592.0   \n",
       "std     2419881.0     3.0    57362.0   442.0   135.0   136.0   \n",
       "min       49000.0  1988.0        0.0  3099.0  1475.0  1165.0   \n",
       "25%      484999.0  2014.0    29000.0  3985.0  1695.0  1485.0   \n",
       "50%      825000.0  2017.0    50000.0  4370.0  1770.0  1545.0   \n",
       "75%     1925000.0  2019.0    72000.0  4629.0  1832.0  1675.0   \n",
       "max    35000000.0  2022.0  2000000.0  5569.0  2220.0  1995.0   \n",
       "\n",
       "       Seating Capacity  Fuel Tank Capacity  \n",
       "count            1995.0              1946.0  \n",
       "mean                5.0                52.0  \n",
       "std                 1.0                15.0  \n",
       "min                 2.0                15.0  \n",
       "25%                 5.0                41.0  \n",
       "50%                 5.0                50.0  \n",
       "75%                 5.0                60.0  \n",
       "max                 8.0               105.0  "
      ]
     },
     "execution_count": 4,
     "metadata": {},
     "output_type": "execute_result"
    }
   ],
   "source": [
    "df3.describe().round()"
   ]
  },
  {
   "cell_type": "markdown",
   "id": "8120d8dd",
   "metadata": {},
   "source": [
    "## 2. Data cleaning"
   ]
  },
  {
   "cell_type": "markdown",
   "id": "65ad26ad",
   "metadata": {},
   "source": [
    "#### data cleaning results:\n",
    "* extracted the first word (Make) in the 'name' and 'owner' columns.\n",
    "* dropped extra columns.\n",
    "* formatted 'selling price' column.\n",
    "* concatenated three files into a new dataframe.\n",
    "* checked for null values (there aren't any).\n",
    "* checked for duplicates (2.2k duplicated found) and droppped them.\n",
    "* check data types (all correct)."
   ]
  },
  {
   "cell_type": "code",
   "execution_count": 5,
   "id": "3956a12a",
   "metadata": {},
   "outputs": [],
   "source": [
    "df1['name'] = df1['name'].apply(lambda x: x.split()[0])\n",
    "df2['name'] = df2['name'].apply(lambda x: x.split()[0])\n"
   ]
  },
  {
   "cell_type": "code",
   "execution_count": 6,
   "id": "19511281",
   "metadata": {},
   "outputs": [],
   "source": [
    "df1['owner'] = df1['owner'].apply(lambda x: x.split()[0])\n",
    "df2['owner'] = df2['owner'].apply(lambda x: x.split()[0])"
   ]
  },
  {
   "cell_type": "code",
   "execution_count": 7,
   "id": "806da4e2",
   "metadata": {},
   "outputs": [],
   "source": [
    "df3.rename(columns=\n",
    "           {\"Year\": \"year\",\n",
    "            \"Price\": \"selling_price\",\n",
    "            \"Kilometer\": \"km_driven\", \n",
    "            \"Fuel Type\": \"fuel\", \n",
    "            \"Seller Type\": \"seller_type\", \n",
    "            \"Transmission\": \"transmission\", \n",
    "            \"Make\": \"name\",\n",
    "            \"Owner\": \"owner\"},inplace=True)\n",
    "\n",
    "df1[\"selling_price\"] /= 100\n",
    "df1[\"selling_price\"] = df1[\"selling_price\"].astype(int)\n",
    "\n",
    "df2[\"selling_price\"] /= 100\n",
    "df2[\"selling_price\"] = df2[\"selling_price\"].astype(int)\n",
    "\n",
    "df3[\"selling_price\"] /= 100\n",
    "df3[\"selling_price\"] = df3[\"selling_price\"].astype(int)"
   ]
  },
  {
   "cell_type": "code",
   "execution_count": 8,
   "id": "d34810fc",
   "metadata": {},
   "outputs": [],
   "source": [
    "df2.drop(['mileage', 'engine', 'max_power', 'torque', 'seats'], axis=1, inplace=True)\n",
    "df3.drop(['Model', 'Location', 'Color', 'Engine', 'Max Power', 'Max Torque', \n",
    "          'Drivetrain', 'Length', 'Width', 'Height', 'Seating Capacity', 'Fuel Tank Capacity'], axis=1, inplace=True)\n"
   ]
  },
  {
   "cell_type": "code",
   "execution_count": 9,
   "id": "fcf6a399",
   "metadata": {},
   "outputs": [],
   "source": [
    "df = pd.concat([df1, df2, df3], ignore_index=True)"
   ]
  },
  {
   "cell_type": "code",
   "execution_count": 10,
   "id": "a9ef89b9",
   "metadata": {},
   "outputs": [],
   "source": [
    "#check for duplicates\n",
    "dup = df[df.duplicated(keep=False)].sort_values(by=['selling_price'])"
   ]
  },
  {
   "cell_type": "code",
   "execution_count": 11,
   "id": "12426f42",
   "metadata": {
    "scrolled": false
   },
   "outputs": [],
   "source": [
    "#drop duplicates\n",
    "df.drop_duplicates(inplace=True, ignore_index=True)"
   ]
  },
  {
   "cell_type": "code",
   "execution_count": 12,
   "id": "2090615f",
   "metadata": {
    "scrolled": false
   },
   "outputs": [],
   "source": [
    "#change 'year' to 'age' (and count it)\n",
    "df.rename(columns={'year': 'age'}, inplace=True)\n",
    "df['age'] = df['age'].apply(lambda x: df['age'].max()+1-x)"
   ]
  },
  {
   "cell_type": "code",
   "execution_count": 13,
   "id": "e74cb3d2",
   "metadata": {},
   "outputs": [],
   "source": [
    "#clean values in 'fuel' column\n",
    "def clean_fuel(value):\n",
    "    if 'CNG' in value:\n",
    "        value = 'CNG'\n",
    "    elif 'Petrol' in value:\n",
    "        value = 'Petrol'\n",
    "    return value\n",
    "\n",
    "df['fuel'] = df['fuel'].apply(lambda x: clean_fuel(x))"
   ]
  },
  {
   "cell_type": "code",
   "execution_count": 14,
   "id": "095febf7",
   "metadata": {},
   "outputs": [],
   "source": [
    "#transform values in 'owner' column\n",
    "def clean_owner(value):\n",
    "    if value == 'Test' or value == 'UnRegistered Car':\n",
    "        value = 0\n",
    "    elif value == 'First':\n",
    "        value = 1\n",
    "    elif value == 'Second':\n",
    "        value = 2\n",
    "    elif value == 'Third':\n",
    "        value = 3\n",
    "    elif value == 'Fourth':\n",
    "        value = 4\n",
    "    elif value == '4 or More':\n",
    "        value = 5\n",
    "    return value\n",
    "\n",
    "df['owner'] = df['owner'].apply(lambda x: clean_owner(x))"
   ]
  },
  {
   "cell_type": "code",
   "execution_count": 15,
   "id": "4ea9bdae",
   "metadata": {},
   "outputs": [],
   "source": [
    "#clean 'seller_type' column\n",
    "def clean_seller(value):\n",
    "    if 'Dealer' in value:\n",
    "        value = 'Dealer'\n",
    "    elif value == 'Commercial Registration':\n",
    "        value = 'Corporate'\n",
    "    return value\n",
    "\n",
    "df['seller_type'] = df['seller_type'].apply(lambda x: clean_seller(x))"
   ]
  },
  {
   "cell_type": "code",
   "execution_count": 16,
   "id": "3607020b",
   "metadata": {},
   "outputs": [
    {
     "data": {
      "text/html": [
       "<div>\n",
       "<style scoped>\n",
       "    .dataframe tbody tr th:only-of-type {\n",
       "        vertical-align: middle;\n",
       "    }\n",
       "\n",
       "    .dataframe tbody tr th {\n",
       "        vertical-align: top;\n",
       "    }\n",
       "\n",
       "    .dataframe thead th {\n",
       "        text-align: right;\n",
       "    }\n",
       "</style>\n",
       "<table border=\"1\" class=\"dataframe\">\n",
       "  <thead>\n",
       "    <tr style=\"text-align: right;\">\n",
       "      <th></th>\n",
       "      <th>name</th>\n",
       "      <th>age</th>\n",
       "      <th>selling_price</th>\n",
       "      <th>km_driven</th>\n",
       "      <th>fuel</th>\n",
       "      <th>seller_type</th>\n",
       "      <th>transmission</th>\n",
       "      <th>owner</th>\n",
       "    </tr>\n",
       "  </thead>\n",
       "  <tbody>\n",
       "    <tr>\n",
       "      <th>0</th>\n",
       "      <td>Maruti</td>\n",
       "      <td>16</td>\n",
       "      <td>600</td>\n",
       "      <td>70000</td>\n",
       "      <td>Petrol</td>\n",
       "      <td>Individual</td>\n",
       "      <td>Manual</td>\n",
       "      <td>1</td>\n",
       "    </tr>\n",
       "    <tr>\n",
       "      <th>1</th>\n",
       "      <td>Maruti</td>\n",
       "      <td>16</td>\n",
       "      <td>1350</td>\n",
       "      <td>50000</td>\n",
       "      <td>Petrol</td>\n",
       "      <td>Individual</td>\n",
       "      <td>Manual</td>\n",
       "      <td>1</td>\n",
       "    </tr>\n",
       "    <tr>\n",
       "      <th>2</th>\n",
       "      <td>Hyundai</td>\n",
       "      <td>11</td>\n",
       "      <td>6000</td>\n",
       "      <td>100000</td>\n",
       "      <td>Diesel</td>\n",
       "      <td>Individual</td>\n",
       "      <td>Manual</td>\n",
       "      <td>1</td>\n",
       "    </tr>\n",
       "    <tr>\n",
       "      <th>3</th>\n",
       "      <td>Datsun</td>\n",
       "      <td>6</td>\n",
       "      <td>2500</td>\n",
       "      <td>46000</td>\n",
       "      <td>Petrol</td>\n",
       "      <td>Individual</td>\n",
       "      <td>Manual</td>\n",
       "      <td>1</td>\n",
       "    </tr>\n",
       "    <tr>\n",
       "      <th>4</th>\n",
       "      <td>Honda</td>\n",
       "      <td>9</td>\n",
       "      <td>4500</td>\n",
       "      <td>141000</td>\n",
       "      <td>Diesel</td>\n",
       "      <td>Individual</td>\n",
       "      <td>Manual</td>\n",
       "      <td>2</td>\n",
       "    </tr>\n",
       "    <tr>\n",
       "      <th>...</th>\n",
       "      <td>...</td>\n",
       "      <td>...</td>\n",
       "      <td>...</td>\n",
       "      <td>...</td>\n",
       "      <td>...</td>\n",
       "      <td>...</td>\n",
       "      <td>...</td>\n",
       "      <td>...</td>\n",
       "    </tr>\n",
       "    <tr>\n",
       "      <th>12313</th>\n",
       "      <td>Mahindra</td>\n",
       "      <td>7</td>\n",
       "      <td>8500</td>\n",
       "      <td>90300</td>\n",
       "      <td>Diesel</td>\n",
       "      <td>Individual</td>\n",
       "      <td>Manual</td>\n",
       "      <td>1</td>\n",
       "    </tr>\n",
       "    <tr>\n",
       "      <th>12314</th>\n",
       "      <td>Hyundai</td>\n",
       "      <td>9</td>\n",
       "      <td>2750</td>\n",
       "      <td>83000</td>\n",
       "      <td>Petrol</td>\n",
       "      <td>Individual</td>\n",
       "      <td>Manual</td>\n",
       "      <td>2</td>\n",
       "    </tr>\n",
       "    <tr>\n",
       "      <th>12315</th>\n",
       "      <td>Ford</td>\n",
       "      <td>10</td>\n",
       "      <td>2400</td>\n",
       "      <td>73000</td>\n",
       "      <td>Petrol</td>\n",
       "      <td>Individual</td>\n",
       "      <td>Manual</td>\n",
       "      <td>1</td>\n",
       "    </tr>\n",
       "    <tr>\n",
       "      <th>12316</th>\n",
       "      <td>BMW</td>\n",
       "      <td>5</td>\n",
       "      <td>42900</td>\n",
       "      <td>60474</td>\n",
       "      <td>Diesel</td>\n",
       "      <td>Individual</td>\n",
       "      <td>Automatic</td>\n",
       "      <td>1</td>\n",
       "    </tr>\n",
       "    <tr>\n",
       "      <th>12317</th>\n",
       "      <td>Mahindra</td>\n",
       "      <td>6</td>\n",
       "      <td>6700</td>\n",
       "      <td>72000</td>\n",
       "      <td>Diesel</td>\n",
       "      <td>Individual</td>\n",
       "      <td>Manual</td>\n",
       "      <td>1</td>\n",
       "    </tr>\n",
       "  </tbody>\n",
       "</table>\n",
       "<p>12318 rows × 8 columns</p>\n",
       "</div>"
      ],
      "text/plain": [
       "           name  age  selling_price  km_driven    fuel seller_type  \\\n",
       "0        Maruti   16            600      70000  Petrol  Individual   \n",
       "1        Maruti   16           1350      50000  Petrol  Individual   \n",
       "2       Hyundai   11           6000     100000  Diesel  Individual   \n",
       "3        Datsun    6           2500      46000  Petrol  Individual   \n",
       "4         Honda    9           4500     141000  Diesel  Individual   \n",
       "...         ...  ...            ...        ...     ...         ...   \n",
       "12313  Mahindra    7           8500      90300  Diesel  Individual   \n",
       "12314   Hyundai    9           2750      83000  Petrol  Individual   \n",
       "12315      Ford   10           2400      73000  Petrol  Individual   \n",
       "12316       BMW    5          42900      60474  Diesel  Individual   \n",
       "12317  Mahindra    6           6700      72000  Diesel  Individual   \n",
       "\n",
       "      transmission  owner  \n",
       "0           Manual      1  \n",
       "1           Manual      1  \n",
       "2           Manual      1  \n",
       "3           Manual      1  \n",
       "4           Manual      2  \n",
       "...            ...    ...  \n",
       "12313       Manual      1  \n",
       "12314       Manual      2  \n",
       "12315       Manual      1  \n",
       "12316    Automatic      1  \n",
       "12317       Manual      1  \n",
       "\n",
       "[12318 rows x 8 columns]"
      ]
     },
     "execution_count": 16,
     "metadata": {},
     "output_type": "execute_result"
    }
   ],
   "source": [
    "df"
   ]
  },
  {
   "cell_type": "markdown",
   "id": "473dca1b",
   "metadata": {},
   "source": [
    "## Data transformation"
   ]
  },
  {
   "cell_type": "markdown",
   "id": "48a1356f",
   "metadata": {},
   "source": [
    "#### Results:\n",
    "* Made plots for km driven, year & selling price."
   ]
  },
  {
   "cell_type": "code",
   "execution_count": 17,
   "id": "9d00c527",
   "metadata": {},
   "outputs": [
    {
     "data": {
      "image/png": "[encoded data removed]",
      "text/plain": [
       "<Figure size 640x480 with 1 Axes>"
      ]
     },
     "metadata": {},
     "output_type": "display_data"
    }
   ],
   "source": [
    "plt.scatter(x=df['km_driven'], y=df['selling_price'],c='g')\n",
    "plt.show()"
   ]
  },
  {
   "cell_type": "code",
   "execution_count": 18,
   "id": "b2a93434",
   "metadata": {},
   "outputs": [
    {
     "data": {
      "image/png": "[encoded data removed]",
      "text/plain": [
       "<Figure size 640x480 with 1 Axes>"
      ]
     },
     "metadata": {},
     "output_type": "display_data"
    }
   ],
   "source": [
    "plt.scatter(x=df['age'], y=df['selling_price'],c='g')\n",
    "plt.show()"
   ]
  },
  {
   "cell_type": "markdown",
   "id": "30d90fc3",
   "metadata": {},
   "source": [
    "#### removing outliers"
   ]
  },
  {
   "cell_type": "code",
   "execution_count": 19,
   "id": "e676c337",
   "metadata": {},
   "outputs": [],
   "source": [
    "#remove outliers\n",
    "def remove_outliers(df):\n",
    "    for c in df.columns:\n",
    "            pct_75 = np.percentile(df[c], 75)\n",
    "            pct_25 = np.percentile(df[c], 25)\n",
    "            upper_bound = pct_75 + 1.5*iqr(df[c])\n",
    "            lower_bound = pct_25 - 1.5*iqr(df[c])\n",
    "            condition = (df[c] < upper_bound) & (df[c] > lower_bound)\n",
    "            df[c] = df[c][condition]\n",
    "    return df"
   ]
  },
  {
   "cell_type": "code",
   "execution_count": 20,
   "id": "e2b13299",
   "metadata": {},
   "outputs": [],
   "source": [
    "numerical = df.select_dtypes(include=[np.number])\n",
    "categorical = df.select_dtypes(include=[object])"
   ]
  },
  {
   "cell_type": "code",
   "execution_count": 21,
   "id": "41ecc0b2",
   "metadata": {},
   "outputs": [
    {
     "data": {
      "text/html": [
       "<div>\n",
       "<style scoped>\n",
       "    .dataframe tbody tr th:only-of-type {\n",
       "        vertical-align: middle;\n",
       "    }\n",
       "\n",
       "    .dataframe tbody tr th {\n",
       "        vertical-align: top;\n",
       "    }\n",
       "\n",
       "    .dataframe thead th {\n",
       "        text-align: right;\n",
       "    }\n",
       "</style>\n",
       "<table border=\"1\" class=\"dataframe\">\n",
       "  <thead>\n",
       "    <tr style=\"text-align: right;\">\n",
       "      <th></th>\n",
       "      <th>age</th>\n",
       "      <th>selling_price</th>\n",
       "      <th>km_driven</th>\n",
       "      <th>owner</th>\n",
       "    </tr>\n",
       "  </thead>\n",
       "  <tbody>\n",
       "    <tr>\n",
       "      <th>0</th>\n",
       "      <td>16</td>\n",
       "      <td>600</td>\n",
       "      <td>70000</td>\n",
       "      <td>1</td>\n",
       "    </tr>\n",
       "    <tr>\n",
       "      <th>1</th>\n",
       "      <td>16</td>\n",
       "      <td>1350</td>\n",
       "      <td>50000</td>\n",
       "      <td>1</td>\n",
       "    </tr>\n",
       "    <tr>\n",
       "      <th>2</th>\n",
       "      <td>11</td>\n",
       "      <td>6000</td>\n",
       "      <td>100000</td>\n",
       "      <td>1</td>\n",
       "    </tr>\n",
       "    <tr>\n",
       "      <th>3</th>\n",
       "      <td>6</td>\n",
       "      <td>2500</td>\n",
       "      <td>46000</td>\n",
       "      <td>1</td>\n",
       "    </tr>\n",
       "    <tr>\n",
       "      <th>4</th>\n",
       "      <td>9</td>\n",
       "      <td>4500</td>\n",
       "      <td>141000</td>\n",
       "      <td>2</td>\n",
       "    </tr>\n",
       "    <tr>\n",
       "      <th>...</th>\n",
       "      <td>...</td>\n",
       "      <td>...</td>\n",
       "      <td>...</td>\n",
       "      <td>...</td>\n",
       "    </tr>\n",
       "    <tr>\n",
       "      <th>12313</th>\n",
       "      <td>7</td>\n",
       "      <td>8500</td>\n",
       "      <td>90300</td>\n",
       "      <td>1</td>\n",
       "    </tr>\n",
       "    <tr>\n",
       "      <th>12314</th>\n",
       "      <td>9</td>\n",
       "      <td>2750</td>\n",
       "      <td>83000</td>\n",
       "      <td>2</td>\n",
       "    </tr>\n",
       "    <tr>\n",
       "      <th>12315</th>\n",
       "      <td>10</td>\n",
       "      <td>2400</td>\n",
       "      <td>73000</td>\n",
       "      <td>1</td>\n",
       "    </tr>\n",
       "    <tr>\n",
       "      <th>12316</th>\n",
       "      <td>5</td>\n",
       "      <td>42900</td>\n",
       "      <td>60474</td>\n",
       "      <td>1</td>\n",
       "    </tr>\n",
       "    <tr>\n",
       "      <th>12317</th>\n",
       "      <td>6</td>\n",
       "      <td>6700</td>\n",
       "      <td>72000</td>\n",
       "      <td>1</td>\n",
       "    </tr>\n",
       "  </tbody>\n",
       "</table>\n",
       "<p>12318 rows × 4 columns</p>\n",
       "</div>"
      ],
      "text/plain": [
       "       age  selling_price  km_driven  owner\n",
       "0       16            600      70000      1\n",
       "1       16           1350      50000      1\n",
       "2       11           6000     100000      1\n",
       "3        6           2500      46000      1\n",
       "4        9           4500     141000      2\n",
       "...    ...            ...        ...    ...\n",
       "12313    7           8500      90300      1\n",
       "12314    9           2750      83000      2\n",
       "12315   10           2400      73000      1\n",
       "12316    5          42900      60474      1\n",
       "12317    6           6700      72000      1\n",
       "\n",
       "[12318 rows x 4 columns]"
      ]
     },
     "execution_count": 21,
     "metadata": {},
     "output_type": "execute_result"
    }
   ],
   "source": [
    "numerical"
   ]
  },
  {
   "cell_type": "code",
   "execution_count": 22,
   "id": "9efbfd87",
   "metadata": {},
   "outputs": [],
   "source": [
    "numerical = remove_outliers(numerical)"
   ]
  },
  {
   "cell_type": "code",
   "execution_count": 23,
   "id": "29b9d0d5",
   "metadata": {},
   "outputs": [
    {
     "data": {
      "text/html": [
       "<div>\n",
       "<style scoped>\n",
       "    .dataframe tbody tr th:only-of-type {\n",
       "        vertical-align: middle;\n",
       "    }\n",
       "\n",
       "    .dataframe tbody tr th {\n",
       "        vertical-align: top;\n",
       "    }\n",
       "\n",
       "    .dataframe thead th {\n",
       "        text-align: right;\n",
       "    }\n",
       "</style>\n",
       "<table border=\"1\" class=\"dataframe\">\n",
       "  <thead>\n",
       "    <tr style=\"text-align: right;\">\n",
       "      <th></th>\n",
       "      <th>age</th>\n",
       "      <th>selling_price</th>\n",
       "      <th>km_driven</th>\n",
       "      <th>owner</th>\n",
       "    </tr>\n",
       "  </thead>\n",
       "  <tbody>\n",
       "    <tr>\n",
       "      <th>0</th>\n",
       "      <td>16.0</td>\n",
       "      <td>600.0</td>\n",
       "      <td>70000.0</td>\n",
       "      <td>1.0</td>\n",
       "    </tr>\n",
       "    <tr>\n",
       "      <th>1</th>\n",
       "      <td>16.0</td>\n",
       "      <td>1350.0</td>\n",
       "      <td>50000.0</td>\n",
       "      <td>1.0</td>\n",
       "    </tr>\n",
       "    <tr>\n",
       "      <th>2</th>\n",
       "      <td>11.0</td>\n",
       "      <td>6000.0</td>\n",
       "      <td>100000.0</td>\n",
       "      <td>1.0</td>\n",
       "    </tr>\n",
       "    <tr>\n",
       "      <th>3</th>\n",
       "      <td>6.0</td>\n",
       "      <td>2500.0</td>\n",
       "      <td>46000.0</td>\n",
       "      <td>1.0</td>\n",
       "    </tr>\n",
       "    <tr>\n",
       "      <th>4</th>\n",
       "      <td>9.0</td>\n",
       "      <td>4500.0</td>\n",
       "      <td>141000.0</td>\n",
       "      <td>2.0</td>\n",
       "    </tr>\n",
       "    <tr>\n",
       "      <th>...</th>\n",
       "      <td>...</td>\n",
       "      <td>...</td>\n",
       "      <td>...</td>\n",
       "      <td>...</td>\n",
       "    </tr>\n",
       "    <tr>\n",
       "      <th>12313</th>\n",
       "      <td>7.0</td>\n",
       "      <td>8500.0</td>\n",
       "      <td>90300.0</td>\n",
       "      <td>1.0</td>\n",
       "    </tr>\n",
       "    <tr>\n",
       "      <th>12314</th>\n",
       "      <td>9.0</td>\n",
       "      <td>2750.0</td>\n",
       "      <td>83000.0</td>\n",
       "      <td>2.0</td>\n",
       "    </tr>\n",
       "    <tr>\n",
       "      <th>12315</th>\n",
       "      <td>10.0</td>\n",
       "      <td>2400.0</td>\n",
       "      <td>73000.0</td>\n",
       "      <td>1.0</td>\n",
       "    </tr>\n",
       "    <tr>\n",
       "      <th>12316</th>\n",
       "      <td>5.0</td>\n",
       "      <td>NaN</td>\n",
       "      <td>60474.0</td>\n",
       "      <td>1.0</td>\n",
       "    </tr>\n",
       "    <tr>\n",
       "      <th>12317</th>\n",
       "      <td>6.0</td>\n",
       "      <td>6700.0</td>\n",
       "      <td>72000.0</td>\n",
       "      <td>1.0</td>\n",
       "    </tr>\n",
       "  </tbody>\n",
       "</table>\n",
       "<p>12318 rows × 4 columns</p>\n",
       "</div>"
      ],
      "text/plain": [
       "        age  selling_price  km_driven  owner\n",
       "0      16.0          600.0    70000.0    1.0\n",
       "1      16.0         1350.0    50000.0    1.0\n",
       "2      11.0         6000.0   100000.0    1.0\n",
       "3       6.0         2500.0    46000.0    1.0\n",
       "4       9.0         4500.0   141000.0    2.0\n",
       "...     ...            ...        ...    ...\n",
       "12313   7.0         8500.0    90300.0    1.0\n",
       "12314   9.0         2750.0    83000.0    2.0\n",
       "12315  10.0         2400.0    73000.0    1.0\n",
       "12316   5.0            NaN    60474.0    1.0\n",
       "12317   6.0         6700.0    72000.0    1.0\n",
       "\n",
       "[12318 rows x 4 columns]"
      ]
     },
     "execution_count": 23,
     "metadata": {},
     "output_type": "execute_result"
    }
   ],
   "source": [
    "numerical"
   ]
  },
  {
   "cell_type": "code",
   "execution_count": 24,
   "id": "657ab308",
   "metadata": {},
   "outputs": [],
   "source": [
    "df = pd.concat([numerical, categorical], axis=1)"
   ]
  },
  {
   "cell_type": "code",
   "execution_count": 25,
   "id": "d6fe76ea",
   "metadata": {},
   "outputs": [],
   "source": [
    "df.dropna(inplace=True)"
   ]
  },
  {
   "cell_type": "markdown",
   "id": "d8327c94",
   "metadata": {},
   "source": [
    "#### X, y & train, test split"
   ]
  },
  {
   "cell_type": "code",
   "execution_count": 26,
   "id": "16270c1b",
   "metadata": {},
   "outputs": [
    {
     "data": {
      "text/plain": [
       "False"
      ]
     },
     "execution_count": 26,
     "metadata": {},
     "output_type": "execute_result"
    }
   ],
   "source": [
    "df.isna().any().any()"
   ]
  },
  {
   "cell_type": "code",
   "execution_count": 27,
   "id": "5b768f27",
   "metadata": {},
   "outputs": [],
   "source": [
    "X = df.drop('selling_price', axis=1)\n",
    "y = df[['selling_price']].copy()"
   ]
  },
  {
   "cell_type": "code",
   "execution_count": 28,
   "id": "3adb6598",
   "metadata": {},
   "outputs": [],
   "source": [
    "numericalX = X.select_dtypes(include=[np.number])\n",
    "categoricalX = X.select_dtypes(include=[object])\n",
    "\n",
    "numericalX_columns = numericalX.columns"
   ]
  },
  {
   "cell_type": "code",
   "execution_count": 29,
   "id": "a81fc580",
   "metadata": {},
   "outputs": [],
   "source": [
    "# scaler = StandardScaler()\n",
    "# scaler.fit(numericalX)\n",
    "# numericalX = scaler.transform(numericalX)\n",
    "\n",
    "# pt = PowerTransformer()\n",
    "# pt.fit(numericalX)\n",
    "# numericalX = pt.transform(numericalX)\n",
    "\n",
    "numericalX = pd.DataFrame(numericalX, columns=numericalX_columns)\n",
    "categoricalX = pd.get_dummies(categoricalX)\n",
    "\n",
    "numericalX.reset_index(drop=True, inplace=True)\n",
    "categoricalX.reset_index(drop=True, inplace=True)"
   ]
  },
  {
   "cell_type": "code",
   "execution_count": 30,
   "id": "d55137b5",
   "metadata": {},
   "outputs": [],
   "source": [
    "#concat\n",
    "X = pd.concat([categoricalX, numericalX], axis=1, copy=False)"
   ]
  },
  {
   "cell_type": "code",
   "execution_count": 31,
   "id": "759b0b99",
   "metadata": {},
   "outputs": [],
   "source": [
    "tt_ratio = 0.3\n",
    "rand_seed = 40"
   ]
  },
  {
   "cell_type": "code",
   "execution_count": 32,
   "id": "d9263f16",
   "metadata": {},
   "outputs": [],
   "source": [
    "X_train, X_test, y_train, y_test = train_test_split(X, y, test_size=tt_ratio, random_state=rand_seed)\n",
    "X_train = pd.DataFrame(X_train)\n",
    "X_test = pd.DataFrame(X_test)"
   ]
  },
  {
   "cell_type": "code",
   "execution_count": 33,
   "id": "a64c5b70",
   "metadata": {},
   "outputs": [],
   "source": [
    "#scaler & transformer (train data)\n",
    "X_train_num = X_train[numericalX_columns]\n",
    "X_train_cat = X_train.drop(numericalX_columns, axis=1)\n",
    "\n",
    "scaler = StandardScaler()\n",
    "scaler.fit(X_train_num)\n",
    "X_train_num = scaler.transform(X_train_num)\n",
    "\n",
    "pt = PowerTransformer()\n",
    "pt.fit(X_train_num)\n",
    "X_train_num = pt.transform(X_train_num)\n",
    "X_train_num = pd.DataFrame(X_train_num, columns=numericalX_columns)\n",
    "\n",
    "X_train_num.reset_index(drop=True, inplace=True)\n",
    "X_train_cat.reset_index(drop=True, inplace=True)\n",
    "X_train = pd.concat([X_train_cat, X_train_num], axis=1, copy=False)"
   ]
  },
  {
   "cell_type": "code",
   "execution_count": 34,
   "id": "c6e92922",
   "metadata": {},
   "outputs": [],
   "source": [
    "#scaler & transformer (test data)\n",
    "X_test_num = X_test[numericalX_columns]\n",
    "X_test_cat = X_test.drop(numericalX_columns, axis=1)\n",
    "\n",
    "X_test_num = scaler.transform(X_test_num)\n",
    "X_test_num = pt.transform(X_test_num)\n",
    "X_test_num = pd.DataFrame(X_test_num, columns=numericalX_columns)\n",
    "\n",
    "X_test_num.reset_index(drop=True, inplace=True)\n",
    "X_test_cat.reset_index(drop=True, inplace=True)\n",
    "X_test = pd.concat([X_test_cat, X_test_num], axis=1, copy=False)"
   ]
  },
  {
   "cell_type": "code",
   "execution_count": 35,
   "id": "9cbc77a4",
   "metadata": {},
   "outputs": [
    {
     "name": "stdout",
     "output_type": "stream",
     "text": [
      "                            OLS Regression Results                            \n",
      "==============================================================================\n",
      "Dep. Variable:          selling_price   R-squared:                       0.662\n",
      "Model:                            OLS   Adj. R-squared:                  0.660\n",
      "Method:                 Least Squares   F-statistic:                     397.4\n",
      "Date:                Thu, 09 Feb 2023   Prob (F-statistic):               0.00\n",
      "Time:                        15:39:43   Log-Likelihood:                -64626.\n",
      "No. Observations:                7339   AIC:                         1.293e+05\n",
      "Df Residuals:                    7302   BIC:                         1.296e+05\n",
      "Df Model:                          36                                         \n",
      "Covariance Type:            nonrobust                                         \n",
      "==============================================================================\n",
      "                 coef    std err          t      P>|t|      [0.025      0.975]\n",
      "------------------------------------------------------------------------------\n",
      "const       8.112e+15   6.47e+15      1.253      0.210   -4.58e+15    2.08e+16\n",
      "x1          2.967e+14   2.37e+14      1.253      0.210   -1.67e+14    7.61e+14\n",
      "x2          2.967e+14   2.37e+14      1.253      0.210   -1.67e+14    7.61e+14\n",
      "x3          2.967e+14   2.37e+14      1.253      0.210   -1.67e+14    7.61e+14\n",
      "x4          2.967e+14   2.37e+14      1.253      0.210   -1.67e+14    7.61e+14\n",
      "x5          2.967e+14   2.37e+14      1.253      0.210   -1.67e+14    7.61e+14\n",
      "x6          2.967e+14   2.37e+14      1.253      0.210   -1.67e+14    7.61e+14\n",
      "x7          2.967e+14   2.37e+14      1.253      0.210   -1.67e+14    7.61e+14\n",
      "x8          2.967e+14   2.37e+14      1.253      0.210   -1.67e+14    7.61e+14\n",
      "x9          2.967e+14   2.37e+14      1.253      0.210   -1.67e+14    7.61e+14\n",
      "x10         2.967e+14   2.37e+14      1.253      0.210   -1.67e+14    7.61e+14\n",
      "x11         2.967e+14   2.37e+14      1.253      0.210   -1.67e+14    7.61e+14\n",
      "x12         2.967e+14   2.37e+14      1.253      0.210   -1.67e+14    7.61e+14\n",
      "x13         2.967e+14   2.37e+14      1.253      0.210   -1.67e+14    7.61e+14\n",
      "x14         2.967e+14   2.37e+14      1.253      0.210   -1.67e+14    7.61e+14\n",
      "x15         2.967e+14   2.37e+14      1.253      0.210   -1.67e+14    7.61e+14\n",
      "x16         2.967e+14   2.37e+14      1.253      0.210   -1.67e+14    7.61e+14\n",
      "x17         2.967e+14   2.37e+14      1.253      0.210   -1.67e+14    7.61e+14\n",
      "x18         2.967e+14   2.37e+14      1.253      0.210   -1.67e+14    7.61e+14\n",
      "x19         2.967e+14   2.37e+14      1.253      0.210   -1.67e+14    7.61e+14\n",
      "x20         2.967e+14   2.37e+14      1.253      0.210   -1.67e+14    7.61e+14\n",
      "x21         2.967e+14   2.37e+14      1.253      0.210   -1.67e+14    7.61e+14\n",
      "x22         2.967e+14   2.37e+14      1.253      0.210   -1.67e+14    7.61e+14\n",
      "x23         2.967e+14   2.37e+14      1.253      0.210   -1.67e+14    7.61e+14\n",
      "x24         2.967e+14   2.37e+14      1.253      0.210   -1.67e+14    7.61e+14\n",
      "x25         2.967e+14   2.37e+14      1.253      0.210   -1.67e+14    7.61e+14\n",
      "x26         2.967e+14   2.37e+14      1.253      0.210   -1.67e+14    7.61e+14\n",
      "x27         2.967e+14   2.37e+14      1.253      0.210   -1.67e+14    7.61e+14\n",
      "x28        -1.257e+15      1e+15     -1.253      0.210   -3.22e+15     7.1e+14\n",
      "x29        -1.257e+15      1e+15     -1.253      0.210   -3.22e+15     7.1e+14\n",
      "x30        -1.257e+15      1e+15     -1.253      0.210   -3.22e+15     7.1e+14\n",
      "x31        -1.257e+15      1e+15     -1.253      0.210   -3.22e+15     7.1e+14\n",
      "x32        -1.257e+15      1e+15     -1.253      0.210   -3.22e+15     7.1e+14\n",
      "x33        -3.354e+15   2.68e+15     -1.253      0.210    -8.6e+15    1.89e+15\n",
      "x34        -3.354e+15   2.68e+15     -1.253      0.210    -8.6e+15    1.89e+15\n",
      "x35        -3.354e+15   2.68e+15     -1.253      0.210    -8.6e+15    1.89e+15\n",
      "x36        -3.798e+15   3.03e+15     -1.253      0.210   -9.74e+15    2.14e+15\n",
      "x37        -3.798e+15   3.03e+15     -1.253      0.210   -9.74e+15    2.14e+15\n",
      "x38        -1566.6974     25.523    -61.384      0.000   -1616.729   -1516.665\n",
      "x39         -189.8205     25.907     -7.327      0.000    -240.606    -139.035\n",
      "x40         -145.0967     21.870     -6.635      0.000    -187.968    -102.225\n",
      "==============================================================================\n",
      "Omnibus:                      714.305   Durbin-Watson:                   1.919\n",
      "Prob(Omnibus):                  0.000   Jarque-Bera (JB):             1231.577\n",
      "Skew:                           0.687   Prob(JB):                    3.68e-268\n",
      "Kurtosis:                       4.464   Cond. No.                     2.91e+15\n",
      "==============================================================================\n",
      "\n",
      "Notes:\n",
      "[1] Standard Errors assume that the covariance matrix of the errors is correctly specified.\n",
      "[2] The smallest eigenvalue is 2.87e-27. This might indicate that there are\n",
      "strong multicollinearity problems or that the design matrix is singular.\n"
     ]
    }
   ],
   "source": [
    "X_train_const = sm.add_constant(X_train.to_numpy()) # adding a constant\n",
    "X_test_const = sm.add_constant(X_test) # adding a constant\n",
    "\n",
    "model = sm.OLS(y_train, X_train_const).fit()\n",
    "\n",
    "print_model = model.summary()\n",
    "print(print_model)"
   ]
  },
  {
   "cell_type": "code",
   "execution_count": 36,
   "id": "6eaaeabc",
   "metadata": {},
   "outputs": [
    {
     "data": {
      "text/plain": [
       "LinearRegression()"
      ]
     },
     "execution_count": 36,
     "metadata": {},
     "output_type": "execute_result"
    }
   ],
   "source": [
    "model = LinearRegression()    # model\n",
    "model.fit(X_train, y_train)   # model train"
   ]
  },
  {
   "cell_type": "code",
   "execution_count": 37,
   "id": "0fa2b651",
   "metadata": {},
   "outputs": [],
   "source": [
    "y_pred = pd.DataFrame(model.predict(X_test),columns = ['selling_price'] )      # model prediction"
   ]
  },
  {
   "cell_type": "code",
   "execution_count": 38,
   "id": "5288f9ee",
   "metadata": {},
   "outputs": [
    {
     "data": {
      "text/plain": [
       "selling_price    200.0\n",
       "dtype: float64"
      ]
     },
     "execution_count": 38,
     "metadata": {},
     "output_type": "execute_result"
    }
   ],
   "source": [
    "y_train.min()"
   ]
  },
  {
   "cell_type": "code",
   "execution_count": 39,
   "id": "1939801a",
   "metadata": {},
   "outputs": [
    {
     "data": {
      "text/plain": [
       "[Text(0.5, 0, 'predicted'), Text(0, 0.5, 'test')]"
      ]
     },
     "execution_count": 39,
     "metadata": {},
     "output_type": "execute_result"
    },
    {
     "data": {
      "image/png": "[encoded data removed]",
      "text/plain": [
       "<Figure size 640x480 with 1 Axes>"
      ]
     },
     "metadata": {},
     "output_type": "display_data"
    }
   ],
   "source": [
    "yp = y_pred.to_numpy()\n",
    "yt = y_test.to_numpy()\n",
    "\n",
    "plot = sns.regplot(x=yp,y=yt,scatter_kws={\"color\": \"red\"}, line_kws={\"color\": \"black\"})\n",
    "plot.set(xlabel='predicted', ylabel='test')"
   ]
  },
  {
   "cell_type": "markdown",
   "id": "810ee3de",
   "metadata": {},
   "source": [
    "## Prediction prompt"
   ]
  },
  {
   "cell_type": "code",
   "execution_count": 40,
   "id": "17e78715",
   "metadata": {},
   "outputs": [],
   "source": [
    "# function for numerical column input\n",
    "def ask_input_num(question, options):\n",
    "    while True:\n",
    "        prompt = input(f'enter {question}: ') \n",
    "        try:\n",
    "            if int(prompt) not in options:\n",
    "                print(f'pick something in between {min(options)} and {max(options)}')\n",
    "                #ask_input_num(question, options) \n",
    "            else:\n",
    "                return prompt\n",
    "        except ValueError:\n",
    "            print('enter a number with no decimals!')\n",
    "            #ask_input_num(question, options)      \n",
    "        \n",
    "\n",
    "#function for categorical column input\n",
    "def ask_input_cat(question, options):\n",
    "    while True:\n",
    "        prompt = input(f'enter {question}: ')\n",
    "        if prompt not in options:\n",
    "            print(f'pick one of these: {options} ')\n",
    "            #ask_input_cat(question, options)\n",
    "        else:\n",
    "            return prompt\n"
   ]
  },
  {
   "cell_type": "code",
   "execution_count": 41,
   "id": "02ee287d",
   "metadata": {},
   "outputs": [],
   "source": [
    "#one row for predictions\n",
    "\n",
    "def prediction():\n",
    "    t = X_test.iloc[:1].copy()\n",
    "    t = pd.DataFrame(t)\n",
    "    t.iloc[:] = 0\n",
    "    \n",
    "    list_of_models = list(df['name'].unique())\n",
    "    list_of_age = list(range(51))\n",
    "    list_of_km = list(range(300001))\n",
    "    list_of_owners = list(df['owner'].unique())\n",
    "    list_of_fuel = list(df['fuel'].unique())\n",
    "    list_of_sellers = list(df['seller_type'].unique())\n",
    "    list_of_transmission = list(df['transmission'].unique())\n",
    "    \n",
    "    model = ask_input_cat('model name', list_of_models)\n",
    "    age = ask_input_num('car\\'s age', list_of_age)\n",
    "    km = ask_input_num('car\\'s distance travelled', list_of_km)\n",
    "    owner = ask_input_num('number of previous owners', list_of_owners)\n",
    "    fuel = ask_input_cat('fuel type', list_of_fuel)\n",
    "    seller = ask_input_cat('seller type', list_of_sellers)\n",
    "    transmission = ask_input_cat('transmission type', list_of_transmission)\n",
    "    \n",
    "    t.at[0, f'name_{model}'] = 1\n",
    "    t.at[0, 'age'] = age\n",
    "    t.at[0, 'km_driven'] = km\n",
    "    t.at[0, 'owner'] = owner\n",
    "    t.at[0, f'fuel_{fuel}'] = 1\n",
    "    t.at[0, f'seller_type_{seller}'] = 1\n",
    "    t.at[0, f'transmission_{transmission}'] = 1\n",
    "    \n",
    "    t_num = t[numericalX_columns]\n",
    "    t_cat = t.drop(numericalX_columns, axis=1)\n",
    "\n",
    "    t_num = scaler.transform(t_num)\n",
    "    t_num = pt.transform(t_num)\n",
    "    t_num = pd.DataFrame(t_num, columns=numericalX_columns)\n",
    "\n",
    "    t = pd.concat([t_cat, t_num], axis=1, copy=False) \n",
    "    \n",
    "    model = LinearRegression()\n",
    "    model.fit(X_train, y_train)\n",
    "    price = model.predict(t).tolist()[0][0]\n",
    "    \n",
    "    if price < 0:\n",
    "        price = 0\n",
    "        \n",
    "    return price\n"
   ]
  },
  {
   "cell_type": "code",
   "execution_count": 42,
   "id": "66dd2546",
   "metadata": {},
   "outputs": [
    {
     "name": "stdout",
     "output_type": "stream",
     "text": [
      "enter model name: Honda\n",
      "enter car's age: 50\n",
      "enter car's distance travelled: 300000\n",
      "enter number of previous owners: 3\n",
      "enter fuel type: Petrol\n",
      "enter seller type: Dealer\n",
      "enter transmission type: Automatic\n"
     ]
    },
    {
     "data": {
      "text/plain": [
       "0"
      ]
     },
     "execution_count": 42,
     "metadata": {},
     "output_type": "execute_result"
    }
   ],
   "source": [
    "prediction()"
   ]
  }
 ],
 "metadata": {
  "kernelspec": {
   "display_name": "Python 3 (ipykernel)",
   "language": "python",
   "name": "python3"
  },
  "language_info": {
   "codemirror_mode": {
    "name": "ipython",
    "version": 3
   },
   "file_extension": ".py",
   "mimetype": "text/x-python",
   "name": "python",
   "nbconvert_exporter": "python",
   "pygments_lexer": "ipython3",
   "version": "3.9.13"
  }
 },
 "nbformat": 4,
 "nbformat_minor": 5
}
